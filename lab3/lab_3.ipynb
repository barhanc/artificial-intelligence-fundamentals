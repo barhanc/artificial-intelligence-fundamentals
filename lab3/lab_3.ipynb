{
   "cells": [
      {
         "cell_type": "markdown",
         "metadata": {},
         "source": [
            "# Sieci neuronowe"
         ]
      },
      {
         "cell_type": "markdown",
         "metadata": {},
         "source": [
            "## Wstęp\n",
            "\n",
            "Celem laboratorium jest zapoznanie się z podstawami sieci neuronowych oraz uczeniem głębokim (*deep learning*). Zapoznasz się na nim z następującymi tematami:\n",
            "- treningiem prostych sieci neuronowych, w szczególności z:\n",
            "  - regresją liniową w sieciach neuronowych\n",
            "  - optymalizacją funkcji kosztu\n",
            "  - algorytmem spadku wzdłuż gradientu\n",
            "  - siecią typu Multilayer Perceptron (MLP)\n",
            "- frameworkiem PyTorch, w szczególności z:\n",
            "  - ładowaniem danych\n",
            "  - preprocessingiem danych\n",
            "  - pisaniem pętli treningowej i walidacyjnej\n",
            "  - walidacją modeli\n",
            "- architekturą i hiperaprametrami sieci MLP, w szczególności z:\n",
            "  - warstwami gęstymi (w pełni połączonymi)\n",
            "  - funkcjami aktywacji\n",
            "  - regularyzacją: L2, dropout"
         ]
      },
      {
         "cell_type": "markdown",
         "metadata": {},
         "source": [
            "## Wykorzystywane biblioteki\n",
            "\n",
            "Zaczniemy od pisania ręcznie prostych sieci w bibliotece Numpy, służącej do obliczeń numerycznych na CPU. Później przejdziemy do wykorzystywania frameworka PyTorch, służącego do obliczeń numerycznych na CPU, GPU oraz automatycznego różniczkowania, wykorzystywanego głównie do treningu sieci neuronowych.\n",
            "\n",
            "Wykorzystamy PyTorcha ze względu na popularność, łatwość instalacji i użycia, oraz dużą kontrolę nad niskopoziomowymi aspektami budowy i treningu sieci neuronowych. Framework ten został stworzony do zastosowań badawczych i naukowych, ale ze względu na wygodę użycia stał się bardzo popularny także w przemyśle. W szczególności całkowicie zdominował przetwarzanie języka naturalnego (NLP) oraz uczenie na grafach.\n",
            "\n",
            "Pierwszy duży framework do deep learningu, oraz obecnie najpopularniejszy, to TensorFlow, wraz z wysokopoziomową nakładką Keras. Są jednak szanse, że Google (autorzy) będzie go powoli porzucać na rzecz ich nowego frameworka JAX ([dyskusja](https://www.reddit.com/r/MachineLearning/comments/vfl57t/d_google_quietly_moving_its_products_from/), [artykuł Business Insidera](https://www.businessinsider.com/facebook-pytorch-beat-google-tensorflow-jax-meta-ai-2022-6?IR=T)), który jest bardzo świeżym, ale ciekawym narzędziem.\n",
            "\n",
            "Trzecia, ale znacznie mniej popularna od powyższych opcja to Apache MXNet."
         ]
      },
      {
         "cell_type": "markdown",
         "metadata": {},
         "source": [
            "## Konfiguracja własnego komputera\n",
            "\n",
            "Jeżeli korzystasz z własnego komputera, to musisz zainstalować trochę więcej bibliotek (Google Colab ma je już zainstalowane).\n",
            "\n",
            "Jeżeli nie masz GPU lub nie chcesz z niego korzystać, to wystarczy znaleźć odpowiednią komendę CPU [na stronie PyTorcha](https://pytorch.org/get-started/locally/). Dla Anacondy odpowiednia komenda została podana poniżej, dla pip'a znajdź ją na stronie.\n",
            "\n",
            "Jeżeli chcesz korzystać ze wsparcia GPU (na tym laboratorium nie będzie potrzebne, na kolejnych może przyspieszyć nieco obliczenia), to musi być to odpowiednio nowa karta NVidii, mająca CUDA compatibility ([lista](https://developer.nvidia.com/cuda-gpus)). Poza PyTorchem będzie potrzebne narzędzie NVidia CUDA w wersji 11.6 lub 11.7. Instalacja na Windowsie jest bardzo prosta (wystarczy ściągnąć plik EXE i zainstalować jak każdy inny program). Instalacja na Linuxie jest trudna i można względnie łatwo zepsuć sobie system, ale jeżeli chcesz spróbować, to [ten tutorial](https://www.youtube.com/results?search_query=nvidia+cuda+install+ubuntu+20.04) jest bardzo dobry."
         ]
      },
      {
         "cell_type": "code",
         "execution_count": 110,
         "metadata": {},
         "outputs": [],
         "source": [
            "# for conda users\n",
            "# !conda install -y matplotlib pandas pytorch torchvision -c pytorch -c conda-forge"
         ]
      },
      {
         "cell_type": "markdown",
         "metadata": {
            "id": "Othm3C2lLAsj"
         },
         "source": [
            "## Wprowadzenie\n",
            "\n",
            "Zanim zaczniemy naszą przygodę z sieciami neuronowymi, przyjrzyjmy się prostemu przykładowi regresji liniowej na syntetycznych danych:"
         ]
      },
      {
         "cell_type": "code",
         "execution_count": 58,
         "metadata": {
            "id": "rnJsfxbnLAsj"
         },
         "outputs": [],
         "source": [
            "from typing import Tuple, Dict\n",
            "\n",
            "import numpy as np\n",
            "import matplotlib.pyplot as plt"
         ]
      },
      {
         "cell_type": "code",
         "execution_count": 59,
         "metadata": {
            "colab": {
               "base_uri": "https://localhost:8080/",
               "height": 282
            },
            "id": "EaYpEXzBLAsl",
            "outputId": "2f8d2922-72f0-4d38-8548-d1262adf522e"
         },
         "outputs": [
            {
               "data": {
                  "text/plain": [
                     "<matplotlib.collections.PathCollection at 0x1b920bdce10>"
                  ]
               },
               "execution_count": 59,
               "metadata": {},
               "output_type": "execute_result"
            },
            {
               "data": {
                  "image/png": "[encoded data removed]",
                  "text/plain": [
                     "<Figure size 640x480 with 1 Axes>"
                  ]
               },
               "metadata": {},
               "output_type": "display_data"
            }
         ],
         "source": [
            "np.random.seed(0)\n",
            "\n",
            "x = np.linspace(0, 1, 100)\n",
            "y = x + np.random.normal(scale=0.1, size=x.shape)\n",
            "\n",
            "plt.scatter(x, y)"
         ]
      },
      {
         "cell_type": "markdown",
         "metadata": {
            "id": "PEM_-yKELAsl"
         },
         "source": [
            "W przeciwieństwie do laboratorium 1, tym razem będziemy chcieli rozwiązać ten problem własnoręcznie, bez użycia wysokopoziomowego interfejsu Scikit-learn'a. W tym celu musimy sobie przypomnieć sformułowanie naszego **problemu optymalizacyjnego (optimization problem)**.\n",
            "\n",
            "W przypadku prostej regresji liniowej (1 zmienna) mamy model postaci $\\hat{y} = \\alpha x + \\beta$, z dwoma parametrami, których będziemy się uczyć. Miarą niedopasowania modelu o danych parametrach jest **funkcja kosztu (cost function)**, nazywana też funkcją celu. Najczęściej używa się **błędu średniokwadratowego (mean squared error, MSE)**:\n",
            "$$\\large\n",
            "MSE = \\frac{1}{N} \\sum_{i}^{N} (y - \\hat{y})^2\n",
            "$$\n",
            "\n",
            "Od jakich $\\alpha$ i $\\beta$ zacząć? W najprostszym wypadku wystarczy po prostu je wylosować jako niewielkie liczby zmiennoprzecinkowe.\n",
            "\n",
            "#### Zadanie 1 (0.5 punkt)\n",
            "\n",
            "Uzupełnij kod funkcji `mse`, obliczającej błąd średniokwadratowy. Wykorzystaj Numpy'a w celu wektoryzacji obliczeń dla wydajności."
         ]
      },
      {
         "cell_type": "code",
         "execution_count": 60,
         "metadata": {
            "colab": {
               "base_uri": "https://localhost:8080/"
            },
            "id": "RaA7Q46TLAsm",
            "outputId": "5c57fe58-1934-4d21-9a7b-d14e9a23140b"
         },
         "outputs": [],
         "source": [
            "def mse(y, y_hat) -> float:\n",
            "    # implement me!\n",
            "    # your_code\n",
            "    N = y.shape[0]\n",
            "\n",
            "    return 1 / N * np.sum((y - y_hat) ** 2)"
         ]
      },
      {
         "cell_type": "code",
         "execution_count": 61,
         "metadata": {
            "colab": {
               "base_uri": "https://localhost:8080/",
               "height": 282
            },
            "id": "qSGfamGbLAsm",
            "outputId": "733ce15f-ae75-466b-e7ee-eb3c9d9d534c"
         },
         "outputs": [
            {
               "name": "stdout",
               "output_type": "stream",
               "text": [
                  "MSE: 0.133\n"
               ]
            },
            {
               "data": {
                  "text/plain": [
                     "[<matplotlib.lines.Line2D at 0x1b920c946d0>]"
                  ]
               },
               "execution_count": 61,
               "metadata": {},
               "output_type": "execute_result"
            },
            {
               "data": {
                  "image/png": "[encoded data removed]",
                  "text/plain": [
                     "<Figure size 640x480 with 1 Axes>"
                  ]
               },
               "metadata": {},
               "output_type": "display_data"
            }
         ],
         "source": [
            "a = np.random.rand()\n",
            "b = np.random.rand()\n",
            "print(f\"MSE: {mse(y, a * x + b):.3f}\")\n",
            "\n",
            "plt.scatter(x, y)\n",
            "plt.plot(x, a * x + b, color=\"g\", linewidth=4)"
         ]
      },
      {
         "cell_type": "markdown",
         "metadata": {
            "id": "Y--E9Mp9LAsn"
         },
         "source": [
            "Losowe parametry radzą sobie nie najlepiej. Jak lepiej dopasować naszą prostą do danych? Zawsze możemy starać się wyprowadzić rozwiązanie analitycznie, i w tym wypadku nawet nam się uda. Jest to jednak szczególny i dość rzadki przypadek, a w szczególności nie będzie to możliwe w większych sieciach neuronowych.\n",
            "\n",
            "Potrzebna nam będzie **metoda optymalizacji (optimization method)**, dającą wartości parametrów minimalizujące dowolną różniczkowalną funkcję kosztu. Zdecydowanie najpopularniejszy jest tutaj **spadek wzdłuż gradientu (gradient descent)**.\n",
            "\n",
            "Metoda ta wywodzi się z prostych obserwacji, które tutaj przedstawimy. Bardziej szczegółowe rozwinięcie dla zainteresowanych: [sekcja 4.3 \"Deep Learning Book\"](https://www.deeplearningbook.org/contents/numerical.html), [ten praktyczny kurs](https://cs231n.github.io/optimization-1/), [analiza oryginalnej publikacji Cauchy'ego](https://www.math.uni-bielefeld.de/documenta/vol-ismp/40_lemarechal-claude.pdf) (oryginał w języku francuskim).\n",
            "\n",
            "Pochodna jest dokładnie równa granicy funkcji. Dla małego $\\epsilon$ można ją przybliżyć jako:\n",
            "$$\\large\n",
            "\\frac{df(x)}{dx} \\approx \\frac{f(x+\\epsilon) - f(x)}{\\epsilon}\n",
            "$$\n",
            "\n",
            "Przyglądając się temu równaniu widzimy, że: \n",
            "* dla funkcji rosnącej ($f(x+\\epsilon) > f(x)$) wyrażenie $\\frac{f(x)}{dx}$ będzie miało znak dodatni \n",
            "* dla funkcji malejącej ($f(x+\\epsilon) < f(x)$) wyrażenie $\\frac{f(x)}{dx}$ będzie miało znak ujemny \n",
            "\n",
            "Widzimy więc, że potrafimy wskazać kierunek zmniejszenia wartości funkcji, patrząc na znak pochodnej. Zaobserwowano także, że amplituda wartości w $\\frac{f(x)}{dx}$ jest tym większa, im dalej jesteśmy od minimum (maximum). Pochodna wyznacza więc, w jakim kierunku funkcja najszybciej rośnie, zaś przeciwny zwrot to ten, w którym funkcja najszybciej spada.\n",
            "\n",
            "Stosując powyższe do optymalizacji, mamy:\n",
            "$$\\large\n",
            "x_{t+1} = x_{t} -  \\alpha * \\frac{df(x)}{dx}\n",
            "$$\n",
            "\n",
            "$\\alpha$ to niewielka wartość (rzędu zwykle $10^{-5}$ - $10^{-2}$), wprowadzona, aby trzymać się założenia o małej zmianie parametrów ($\\epsilon$). Nazywa się ją **stałą uczącą (learning rate)** i jest zwykle najważniejszym hiperparametrem podczas nauki sieci.\n",
            "\n",
            "Metoda ta zakłada, że używamy całego zbioru danych do aktualizacji parametrów w każdym kroku, co nazywa się po prostu GD (od *gradient descent*) albo *full batch GD*. Wtedy każdy krok optymalizacji nazywa się **epoką (epoch)**.\n",
            "\n",
            "Im większa stała ucząca, tym większe nasze kroki podczas minimalizacji. Możemy więc uczyć szybciej, ale istnieje ryzyko, że będziemy \"przeskakiwać\" minima. Mniejsza stała ucząca to wolniejszy, ale dokładniejszy trening. Jednak nie zawsze ona pozwala osiągnąć lepsze wyniki, bo może okazać się, że utkniemy w minimum lokalnym. Można także zmieniać stałą uczącą podczas treningu, co nazywa się **learning rate scheduling (LR scheduling)**. Obrazowo:\n",
            "\n",
            "![learning_rate](http://www.bdhammel.com/assets/learning-rate/lr-types.png)"
         ]
      },
      {
         "cell_type": "markdown",
         "metadata": {
            "id": "496qEjkVLAso"
         },
         "source": [
            "![interactive LR](http://cdn-images-1.medium.com/max/640/1*eeIvlwkMNG1wSmj3FR6M2g.gif)"
         ]
      },
      {
         "cell_type": "markdown",
         "metadata": {
            "id": "RYkyAHKzLAsp"
         },
         "source": [
            "Policzmy więc pochodną dla naszej funkcji kosztu MSE. Pochodną liczymy po parametrach naszego modelu, bo to właśnie ich chcemy dopasować tak, żeby koszt był jak najmniejszy:\n",
            "\n",
            "$$\\large\n",
            "MSE = \\frac{1}{N} \\sum_{i}^{N} (y_i - \\hat{y_i})^2\n",
            "$$\n",
            "\n",
            "W powyższym wzorze tylko $y_i$ jest zależny od $a$ oraz $b$. Możemy wykorzystać tu regułę łańcuchową (*chain rule*) i policzyć pochodne po naszych parametrach w sposób następujący:\n",
            "\n",
            "$$\\large\n",
            "\\frac{\\text{d} MSE}{\\text{d} a} = \\frac{1}{N} \\sum_{i}^{N} \\frac{\\text{d} (y_i - \\hat{y_i})^2}{\\text{d} \\hat{y_i}} \\frac{\\text{d} \\hat{y_i}}{\\text{d} a}\n",
            "$$\n",
            "\n",
            "$$\\large\n",
            "\\frac{\\text{d} MSE}{\\text{d} b} = \\frac{1}{N} \\sum_{i}^{N} \\frac{\\text{d} (y_i - \\hat{y_i})^2}{\\text{d} \\hat{y_i}} \\frac{\\text{d} \\hat{y_i}}{\\text{d} b}\n",
            "$$\n",
            "\n",
            "Policzmy te pochodne po kolei:\n",
            "\n",
            "$$\\large\n",
            "\\frac{\\text{d} (y_i - \\hat{y_i})^2}{\\text{d} \\hat{y_i}} = -2 \\cdot (y_i - \\hat{y_i})\n",
            "$$\n",
            "\n",
            "$$\\large\n",
            "\\frac{\\text{d} \\hat{y_i}}{\\text{d} a} = x_i\n",
            "$$\n",
            "\n",
            "$$\\large\n",
            "\\frac{\\text{d} \\hat{y_i}}{\\text{d} b} = 1\n",
            "$$\n",
            "\n",
            "Łącząc powyższe wyniki dostaniemy:\n",
            "\n",
            "$$\\large\n",
            "\\frac{\\text{d} MSE}{\\text{d} a} = \\frac{-2}{N} \\sum_{i}^{N} (y_i - \\hat{y_i}) \\cdot {x_i}\n",
            "$$\n",
            "\n",
            "$$\\large\n",
            "\\frac{\\text{d} MSE}{\\text{d} b} = \\frac{-2}{N} \\sum_{i}^{N} (y_i - \\hat{y_i})\n",
            "$$\n",
            "\n",
            "Aktualizacja parametrów wygląda tak:\n",
            "\n",
            "$$\\large\n",
            "a' = a - \\alpha * \\left( \\frac{-2}{N} \\sum_{i=1}^N (y_i - \\hat{y}_i) \\cdot x_i \\right)\n",
            "$$\n",
            "$$\\large\n",
            "b' = b - \\alpha * \\left( \\frac{-2}{N} \\sum_{i=1}^N (y_i - \\hat{y}_i) \\right)\n",
            "$$\n",
            "\n",
            "Liczymy więc pochodną funkcji kosztu, a potem za pomocą reguły łańcuchowej \"cofamy się\", dochodząc do tego, jak każdy z parametrów wpływa na błąd i w jaki sposób powinniśmy go zmienić. Nazywa się to **propagacją wsteczną (backpropagation)** i jest podstawowym mechanizmem umożliwiającym naukę sieci neuronowych za pomocą spadku wzdłuż gradientu. Więcej możesz o tym przeczytać [tutaj](https://cs231n.github.io/optimization-2/)."
         ]
      },
      {
         "cell_type": "markdown",
         "metadata": {},
         "source": [
            "\n",
            "#### Zadanie 2 (1.0 punkt)\n",
            "\n",
            "Zaimplementuj funkcję realizującą jedną epokę treningową. Zauważ, że `x` oraz `y` są wektorami. Oblicz predykcję przy aktualnych parametrach oraz zaktualizuj je zgodnie z powyższymi wzorami."
         ]
      },
      {
         "cell_type": "code",
         "execution_count": 62,
         "metadata": {
            "colab": {
               "base_uri": "https://localhost:8080/"
            },
            "id": "4qbdWOSULAsp",
            "outputId": "055607ae-87aa-470a-e6da-25682c82d470"
         },
         "outputs": [],
         "source": [
            "def optimize(x: np.ndarray, y: np.ndarray, a: float, b: float, lr: float = 0.1):\n",
            "    N = x.shape[0]\n",
            "    y_hat = a * x + b\n",
            "    errors = y - y_hat\n",
            "    # implement me!\n",
            "    # your_code\n",
            "\n",
            "    a -= lr * (-2) / N * np.sum(errors * x)\n",
            "    b -= lr * (-2) / N * np.sum(errors)\n",
            "\n",
            "    return a, b"
         ]
      },
      {
         "cell_type": "code",
         "execution_count": 63,
         "metadata": {},
         "outputs": [
            {
               "name": "stdout",
               "output_type": "stream",
               "text": [
                  "step 0 loss:  0.1330225119404028\n",
                  "step 100 loss:  0.012673197778527677\n",
                  "step 200 loss:  0.010257153540857818\n",
                  "step 300 loss:  0.0100948037549359\n",
                  "step 400 loss:  0.010083894412889118\n",
                  "step 500 loss:  0.010083161342973332\n",
                  "step 600 loss:  0.01008311208321971\n",
                  "step 700 loss:  0.010083108773135261\n",
                  "step 800 loss:  0.010083108550709078\n",
                  "step 900 loss:  0.010083108535762811\n",
                  "final loss: 0.010083108534760455\n"
               ]
            }
         ],
         "source": [
            "for i in range(1000):\n",
            "    loss = mse(y, a * x + b)\n",
            "    a, b = optimize(x, y, a, b)\n",
            "    if i % 100 == 0:\n",
            "        print(f\"step {i} loss: \", loss)\n",
            "\n",
            "print(\"final loss:\", loss)"
         ]
      },
      {
         "cell_type": "code",
         "execution_count": 64,
         "metadata": {
            "colab": {
               "base_uri": "https://localhost:8080/",
               "height": 282
            },
            "id": "xOgRcPC1LAsq",
            "outputId": "85b0b3e4-aa0d-467a-d8ff-5f01be17b243",
            "scrolled": false
         },
         "outputs": [
            {
               "data": {
                  "text/plain": [
                     "[<matplotlib.lines.Line2D at 0x1b920d2ee90>]"
                  ]
               },
               "execution_count": 64,
               "metadata": {},
               "output_type": "execute_result"
            },
            {
               "data": {
                  "image/png": "[encoded data removed]",
                  "text/plain": [
                     "<Figure size 640x480 with 1 Axes>"
                  ]
               },
               "metadata": {},
               "output_type": "display_data"
            }
         ],
         "source": [
            "plt.scatter(x, y)\n",
            "plt.plot(x, a * x + b, color=\"g\", linewidth=4)"
         ]
      },
      {
         "cell_type": "markdown",
         "metadata": {
            "id": "vOr2fWYpLAsq"
         },
         "source": [
            "Udało ci się wytrenować swoją pierwszą sieć neuronową. Czemu? Otóż neuron to po prostu wektor parametrów, a zwykle robimy iloczyn skalarny tych parametrów z wejściem. Dodatkowo na wyjście nakłada się **funkcję aktywacji (activation function)**, która przekształca wyjście. Tutaj takiej nie było, a właściwie była to po prostu funkcja identyczności.\n",
            "\n",
            "Oczywiście w praktyce korzystamy z odpowiedniego frameworka, który w szczególności:\n",
            "- ułatwia budowanie sieci, np. ma gotowe klasy dla warstw neuronów\n",
            "- ma zaimplementowane funkcje kosztu oraz ich pochodne\n",
            "- sam różniczkuje ze względu na odpowiednie parametry i aktualizuje je odpowiednio podczas treningu\n"
         ]
      },
      {
         "cell_type": "markdown",
         "metadata": {
            "id": "NJBYJabuLAsr"
         },
         "source": [
            "## Wprowadzenie do PyTorcha"
         ]
      },
      {
         "cell_type": "markdown",
         "metadata": {
            "id": "EB-99XqhLAsr"
         },
         "source": [
            "PyTorch to w gruncie rzeczy narzędzie do algebry liniowej z [automatycznym rożniczkowaniem](https://pytorch.org/tutorials/beginner/blitz/autograd_tutorial.html), z możliwością przyspieszenia obliczeń z pomocą GPU. Na tych fundamentach zbudowany jest pełny framework do uczenia głębokiego. Można spotkać się ze stwierdzenie, że PyTorch to NumPy + GPU + opcjonalne różniczkowanie, co jest całkiem celne. Plus można łatwo debugować printem :)\n",
            "\n",
            "PyTorch używa dynamicznego grafu obliczeń, który sami definiujemy w kodzie. Takie podejście jest bardzo wygodne, elastyczne i pozwala na łatwe eksperymentowanie. Odbywa się to potencjalnie kosztem wydajności, ponieważ pozostawia kwestię optymalizacji programiście. Więcej na ten temat dla zainteresowanych na końcu laboratorium.\n",
            "\n",
            "Samo API PyTorcha bardzo przypomina Numpy'a, a podstawowym obiektem jest `Tensor`, klasa reprezentująca tensory dowolnego wymiaru. Dodatkowo niektóre tensory będą miały automatycznie obliczony gradient. Co ważne, tensor jest na pewnym urządzeniu, CPU lub GPU, a przenosić między nimi trzeba explicite.\n",
            "\n",
            "Najważniejsze moduły:\n",
            "- `torch` - podstawowe klasy oraz funkcje, np. `Tensor`, `from_numpy()`\n",
            "- `torch.nn` - klasy związane z sieciami neuronowymi, np. `Linear`, `Sigmoid`\n",
            "- `torch.optim` - wszystko związane z optymalizacją, głównie spadkiem wzdłuż gradientu"
         ]
      },
      {
         "cell_type": "code",
         "execution_count": 65,
         "metadata": {
            "id": "FwuIt8S-LAss"
         },
         "outputs": [],
         "source": [
            "import torch\n",
            "import torch.nn as nn\n",
            "import torch.optim as optim"
         ]
      },
      {
         "cell_type": "code",
         "execution_count": 66,
         "metadata": {
            "colab": {
               "base_uri": "https://localhost:8080/"
            },
            "id": "bfCiUFXULAss",
            "outputId": "83f6231d-ecc4-461a-b758-fdc4bc2a88a4"
         },
         "outputs": [
            {
               "name": "stdout",
               "output_type": "stream",
               "text": [
                  "tensor([1.9900, 1.5732, 1.9581, 1.0174, 1.9316, 1.2722, 1.1150, 1.2014, 1.6697,\n",
                  "        1.1504])\n",
                  "tensor([0.9900, 0.5732, 0.9581, 0.0174, 0.9316, 0.2722, 0.1150, 0.2014, 0.6697,\n",
                  "        0.1504])\n",
                  "tensor(4.8791)\n"
               ]
            }
         ],
         "source": [
            "ones = torch.ones(10)\n",
            "noise = torch.ones(10) * torch.rand(10)\n",
            "\n",
            "# elementwise sum\n",
            "print(ones + noise)\n",
            "\n",
            "# elementwise multiplication\n",
            "print(ones * noise)\n",
            "\n",
            "# dot product\n",
            "print(ones @ noise)"
         ]
      },
      {
         "cell_type": "code",
         "execution_count": 67,
         "metadata": {
            "id": "ynNd_kD0LAst"
         },
         "outputs": [],
         "source": [
            "# beware - shares memory with original Numpy array!\n",
            "# very fast, but modifications are visible to original variable\n",
            "x = torch.from_numpy(x)\n",
            "y = torch.from_numpy(y)"
         ]
      },
      {
         "cell_type": "markdown",
         "metadata": {
            "id": "W9kkxczELAsu"
         },
         "source": [
            "Jeżeli dla stworzonych przez nas tensorów chcemy śledzić operacje i obliczać gradient, to musimy oznaczyć `requires_grad=True`."
         ]
      },
      {
         "cell_type": "code",
         "execution_count": 68,
         "metadata": {
            "colab": {
               "base_uri": "https://localhost:8080/"
            },
            "id": "8HtZL-KfLAsu",
            "outputId": "47c6d930-5678-452a-95bc-227935138b40"
         },
         "outputs": [
            {
               "data": {
                  "text/plain": [
                     "(tensor([0.9462], requires_grad=True), tensor([0.7809], requires_grad=True))"
                  ]
               },
               "execution_count": 68,
               "metadata": {},
               "output_type": "execute_result"
            }
         ],
         "source": [
            "a = torch.rand(1, requires_grad=True)\n",
            "b = torch.rand(1, requires_grad=True)\n",
            "a, b"
         ]
      },
      {
         "cell_type": "markdown",
         "metadata": {
            "id": "Nl1guWZ_LAsv"
         },
         "source": [
            "PyTorch zawiera większość powszechnie używanych funkcji kosztu, np. MSE. Mogą być one używane na 2 sposoby, z czego pierwszy jest popularniejszy:\n",
            "- jako klasy wywoływalne z modułu `torch.nn`\n",
            "- jako funkcje z modułu `torch.nn.functional`\n",
            "\n",
            "Po wykonaniu poniższego kodu widzimy, że zwraca on nam tensor z dodatkowymi atrybutami. Co ważne, jest to skalar (0-wymiarowy tensor), bo potrzebujemy zwyczajnej liczby do obliczania propagacji wstecznych (pochodnych czątkowych)."
         ]
      },
      {
         "cell_type": "code",
         "execution_count": 69,
         "metadata": {},
         "outputs": [
            {
               "data": {
                  "text/plain": [
                     "tensor(0.5696, dtype=torch.float64, grad_fn=<MseLossBackward0>)"
                  ]
               },
               "execution_count": 69,
               "metadata": {},
               "output_type": "execute_result"
            }
         ],
         "source": [
            "mse = nn.MSELoss()\n",
            "mse(y, a * x + b)"
         ]
      },
      {
         "cell_type": "markdown",
         "metadata": {
            "id": "vS35r49nLAsw"
         },
         "source": [
            "Atrybutu `grad_fn` nie używamy wprost, bo korzysta z niego w środku PyTorch, ale widać, że tensor jest \"świadomy\", że liczy się na nim pochodną. Możemy natomiast skorzystać z atrybutu `grad`, który zawiera faktyczny gradient. Zanim go jednak dostaniemy, to trzeba powiedzieć PyTorchowi, żeby policzył gradient. Służy do tego metoda `.backward()`, wywoływana na obiekcie zwracanym przez funkcję kosztu."
         ]
      },
      {
         "cell_type": "code",
         "execution_count": 70,
         "metadata": {
            "id": "Qb7l6Xg1LAsx"
         },
         "outputs": [],
         "source": [
            "loss = mse(y, a * x + b)\n",
            "loss.backward()"
         ]
      },
      {
         "cell_type": "code",
         "execution_count": 71,
         "metadata": {
            "colab": {
               "base_uri": "https://localhost:8080/"
            },
            "id": "6LfQbLVoLAsx",
            "outputId": "d5b87fb7-d284-423c-f467-b677384b2f67"
         },
         "outputs": [
            {
               "name": "stdout",
               "output_type": "stream",
               "text": [
                  "tensor([0.7439])\n"
               ]
            }
         ],
         "source": [
            "print(a.grad)"
         ]
      },
      {
         "cell_type": "markdown",
         "metadata": {
            "id": "Kdf1iweELAsy"
         },
         "source": [
            "Ważne jest, że PyTorch nie liczy za każdym razem nowego gradientu, tylko dodaje go do istniejącego, czyli go akumuluje. Jest to przydatne w niektórych sieciach neuronowych, ale zazwyczaj trzeba go zerować. Jeżeli tego nie zrobimy, to dostaniemy coraz większe gradienty.\n",
            "\n",
            "Do zerowania służy metoda `.zero_()`. W PyTorchu wszystkie metody modyfikujące tensor w miejscu mają `_` na końcu nazwy. Jest to dość niskopoziomowa operacja dla pojedynczych tensorów - zobaczymy za chwilę, jak to robić łatwiej dla całej sieci."
         ]
      },
      {
         "cell_type": "code",
         "execution_count": 72,
         "metadata": {
            "colab": {
               "base_uri": "https://localhost:8080/"
            },
            "id": "DiCQZKJsLAsy",
            "outputId": "2f779622-480d-43fc-b9d0-a0e36ff4b28b"
         },
         "outputs": [
            {
               "data": {
                  "text/plain": [
                     "tensor([1.4878])"
                  ]
               },
               "execution_count": 72,
               "metadata": {},
               "output_type": "execute_result"
            }
         ],
         "source": [
            "loss = mse(y, a * x + b)\n",
            "loss.backward()\n",
            "a.grad"
         ]
      },
      {
         "cell_type": "markdown",
         "metadata": {
            "id": "xNC3Ag8uLAsz"
         },
         "source": [
            "Zobaczmy, jak wyglądałaby regresja liniowa, ale napisana w PyTorchu. Jest to oczywiście bardzo niskopoziomowa implementacja - za chwilę zobaczymy, jak to wygląda w praktyce."
         ]
      },
      {
         "cell_type": "code",
         "execution_count": 73,
         "metadata": {
            "colab": {
               "base_uri": "https://localhost:8080/"
            },
            "id": "AKnxyeboLAsz",
            "outputId": "2f939474-901a-4773-9704-686a40ae6e8e"
         },
         "outputs": [
            {
               "name": "stdout",
               "output_type": "stream",
               "text": [
                  "step 0 loss:  tensor(0.5696, dtype=torch.float64, grad_fn=<MseLossBackward0>)\n",
                  "step 100 loss:  tensor(0.0107, dtype=torch.float64, grad_fn=<MseLossBackward0>)\n",
                  "step 200 loss:  tensor(0.0101, dtype=torch.float64, grad_fn=<MseLossBackward0>)\n",
                  "step 300 loss:  tensor(0.0101, dtype=torch.float64, grad_fn=<MseLossBackward0>)\n",
                  "step 400 loss:  tensor(0.0101, dtype=torch.float64, grad_fn=<MseLossBackward0>)\n",
                  "step 500 loss:  tensor(0.0101, dtype=torch.float64, grad_fn=<MseLossBackward0>)\n",
                  "step 600 loss:  tensor(0.0101, dtype=torch.float64, grad_fn=<MseLossBackward0>)\n",
                  "step 700 loss:  tensor(0.0101, dtype=torch.float64, grad_fn=<MseLossBackward0>)\n",
                  "step 800 loss:  tensor(0.0101, dtype=torch.float64, grad_fn=<MseLossBackward0>)\n",
                  "step 900 loss:  tensor(0.0101, dtype=torch.float64, grad_fn=<MseLossBackward0>)\n",
                  "final loss: tensor(0.0101, dtype=torch.float64, grad_fn=<MseLossBackward0>)\n"
               ]
            }
         ],
         "source": [
            "learning_rate = 0.1\n",
            "for i in range(1000):\n",
            "    loss = mse(y, a * x + b)\n",
            "\n",
            "    # compute gradients\n",
            "    loss.backward()\n",
            "\n",
            "    # update parameters\n",
            "    a.data -= learning_rate * a.grad\n",
            "    b.data -= learning_rate * b.grad\n",
            "\n",
            "    # zero gradients\n",
            "    a.grad.data.zero_()\n",
            "    b.grad.data.zero_()\n",
            "\n",
            "    if i % 100 == 0:\n",
            "        print(f\"step {i} loss: \", loss)\n",
            "\n",
            "print(\"final loss:\", loss)"
         ]
      },
      {
         "cell_type": "markdown",
         "metadata": {
            "id": "2DXNVhshmmI-"
         },
         "source": [
            "Trening modeli w PyTorchu jest dosyć schematyczny i najczęściej rozdziela się go na kilka bloków, dających razem **pętlę uczącą (training loop)**, powtarzaną w każdej epoce:\n",
            "1. Forward pass - obliczenie predykcji sieci\n",
            "2. Loss calculation\n",
            "3. Backpropagation - obliczenie pochodnych oraz zerowanie gradientów\n",
            "4. Optimalization - aktualizacja wag\n",
            "5. Other - ewaluacja na zbiorze walidacyjnym, logging etc."
         ]
      },
      {
         "cell_type": "code",
         "execution_count": 74,
         "metadata": {
            "colab": {
               "base_uri": "https://localhost:8080/"
            },
            "id": "2etpw7TNLAs0",
            "outputId": "8ac35c12-6c70-41ec-bf57-414456fc3c96",
            "scrolled": true
         },
         "outputs": [
            {
               "name": "stdout",
               "output_type": "stream",
               "text": [
                  "step 0 loss: 0.1425\n",
                  "step 100 loss: 0.0109\n",
                  "step 200 loss: 0.0101\n",
                  "step 300 loss: 0.0101\n",
                  "step 400 loss: 0.0101\n",
                  "step 500 loss: 0.0101\n",
                  "step 600 loss: 0.0101\n",
                  "step 700 loss: 0.0101\n",
                  "step 800 loss: 0.0101\n",
                  "step 900 loss: 0.0101\n",
                  "final loss: tensor(0.0101, dtype=torch.float64, grad_fn=<MseLossBackward0>)\n"
               ]
            }
         ],
         "source": [
            "# initialization\n",
            "learning_rate = 0.1\n",
            "a = torch.rand(1, requires_grad=True)\n",
            "b = torch.rand(1, requires_grad=True)\n",
            "optimizer = torch.optim.SGD([a, b], lr=learning_rate)\n",
            "best_loss = float(\"inf\")\n",
            "\n",
            "# training loop in each epoch\n",
            "for i in range(1000):\n",
            "    # forward pass\n",
            "    y_hat = a * x + b\n",
            "\n",
            "    # loss calculation\n",
            "    loss = mse(y, y_hat)\n",
            "\n",
            "    # backpropagation\n",
            "    loss.backward()\n",
            "\n",
            "    # optimization\n",
            "    optimizer.step()\n",
            "    optimizer.zero_grad()  # zeroes all gradients - very convenient!\n",
            "\n",
            "    if i % 100 == 0:\n",
            "        if loss < best_loss:\n",
            "            best_model = (a.clone(), b.clone())\n",
            "            best_loss = loss\n",
            "        print(f\"step {i} loss: {loss.item():.4f}\")\n",
            "\n",
            "print(\"final loss:\", loss)"
         ]
      },
      {
         "cell_type": "markdown",
         "metadata": {},
         "source": [
            "Przejdziemy teraz do budowy sieci neuronowej do klasyfikacji. Typowo implementuje się ją po prostu jako sieć dla regresji, ale zwracającą tyle wyników, ile mamy klas, a potem aplikuje się na tym funkcję sigmoidalną (2 klasy) lub softmax (>2 klasy). W przypadku klasyfikacji binarnej zwraca się czasem tylko 1 wartość, przepuszczaną przez sigmoidę - wtedy wyjście z sieci to prawdopodobieństwo klasy pozytywnej.\n",
            "\n",
            "Funkcją kosztu zwykle jest **entropia krzyżowa (cross-entropy)**, stosowana też w klasycznej regresji logistycznej. Co ważne, sieci neuronowe, nawet tak proste, uczą się szybciej i stabilniej, gdy dane na wejściu (a przynajmniej zmienne numeryczne) są **ustandaryzowane (standardized)**. Operacja ta polega na odjęciu średniej i podzieleniu przez odchylenie standardowe (tzw. *Z-score transformation*).\n",
            "\n",
            "**Uwaga - PyTorch wymaga tensora klas będącego liczbami zmiennoprzecinkowymi!**"
         ]
      },
      {
         "cell_type": "markdown",
         "metadata": {},
         "source": [
            "## Zbiór danych"
         ]
      },
      {
         "cell_type": "markdown",
         "metadata": {},
         "source": [
            "Na tym laboratorium wykorzystamy zbiór [Adult Census](https://archive.ics.uci.edu/ml/datasets/adult). Dotyczy on przewidywania na podstawie danych demograficznych, czy dany człowiek zarabia powyżej 50 tysięcy dolarów rocznie, czy też mniej. Jest to cenna informacja np. przy planowaniu kampanii marketingowych. Jak możesz się domyślić, zbiór pochodzi z czasów, kiedy inflacja była dużo niższa :)\n",
            "\n",
            "Poniżej znajduje się kod do ściągnięcia i preprocessingu zbioru. Nie musisz go dokładnie analizować."
         ]
      },
      {
         "cell_type": "code",
         "execution_count": 111,
         "metadata": {
            "colab": {
               "base_uri": "https://localhost:8080/"
            },
            "id": "4DNsaZAnLAs0",
            "outputId": "70822008-530d-4173-deb9-8149a9fe5b41",
            "scrolled": true
         },
         "outputs": [],
         "source": [
            "# !wget https://archive.ics.uci.edu/ml/machine-learning-databases/adult/adult.data"
         ]
      },
      {
         "cell_type": "code",
         "execution_count": 76,
         "metadata": {},
         "outputs": [
            {
               "data": {
                  "text/plain": [
                     "array([' <=50K', ' >50K'], dtype=object)"
                  ]
               },
               "execution_count": 76,
               "metadata": {},
               "output_type": "execute_result"
            }
         ],
         "source": [
            "import pandas as pd\n",
            "\n",
            "\n",
            "columns = [\n",
            "    \"age\",\n",
            "    \"workclass\",\n",
            "    \"fnlwgt\",\n",
            "    \"education\",\n",
            "    \"education-num\",\n",
            "    \"marital-status\",\n",
            "    \"occupation\",\n",
            "    \"relationship\",\n",
            "    \"race\",\n",
            "    \"sex\",\n",
            "    \"capital-gain\",\n",
            "    \"capital-loss\",\n",
            "    \"hours-per-week\",\n",
            "    \"native-country\",\n",
            "    \"wage\"\n",
            "]\n",
            "\n",
            "\"\"\"\n",
            "age: continuous.\n",
            "workclass: Private, Self-emp-not-inc, Self-emp-inc, Federal-gov, Local-gov, State-gov, Without-pay, Never-worked.\n",
            "fnlwgt: continuous.\n",
            "education: Bachelors, Some-college, 11th, HS-grad, Prof-school, Assoc-acdm, Assoc-voc, 9th, 7th-8th, 12th, Masters, 1st-4th, 10th, Doctorate, 5th-6th, Preschool.\n",
            "education-num: continuous.\n",
            "marital-status: Married-civ-spouse, Divorced, Never-married, Separated, Widowed, Married-spouse-absent, Married-AF-spouse.\n",
            "occupation: Tech-support, Craft-repair, Other-service, Sales, Exec-managerial, Prof-specialty, Handlers-cleaners, Machine-op-inspct, Adm-clerical, Farming-fishing, Transport-moving, Priv-house-serv, Protective-serv, Armed-Forces.\n",
            "relationship: Wife, Own-child, Husband, Not-in-family, Other-relative, Unmarried.\n",
            "race: White, Asian-Pac-Islander, Amer-Indian-Eskimo, Other, Black.\n",
            "sex: Female, Male.\n",
            "capital-gain: continuous.\n",
            "capital-loss: continuous.\n",
            "hours-per-week: continuous.\n",
            "native-country: United-States, Cambodia, England, Puerto-Rico, Canada, Germany, Outlying-US(Guam-USVI-etc), India, Japan, Greece, South, China, Cuba, Iran, Honduras, Philippines, Italy, Poland, Jamaica, Vietnam, Mexico, Portugal, Ireland, France, Dominican-Republic, Laos, Ecuador, Taiwan, Haiti, Columbia, Hungary, Guatemala, Nicaragua, Scotland, Thailand, Yugoslavia, El-Salvador, Trinadad&Tobago, Peru, Hong, Holand-Netherlands.\n",
            "\"\"\"\n",
            "\n",
            "df = pd.read_csv(\"adult.data\", header=None, names=columns)\n",
            "df.wage.unique()"
         ]
      },
      {
         "cell_type": "code",
         "execution_count": 77,
         "metadata": {},
         "outputs": [],
         "source": [
            "# attribution: https://www.kaggle.com/code/royshih23/topic7-classification-in-python\n",
            "df['education'].replace('Preschool', 'dropout',inplace=True)\n",
            "df['education'].replace('10th', 'dropout',inplace=True)\n",
            "df['education'].replace('11th', 'dropout',inplace=True)\n",
            "df['education'].replace('12th', 'dropout',inplace=True)\n",
            "df['education'].replace('1st-4th', 'dropout',inplace=True)\n",
            "df['education'].replace('5th-6th', 'dropout',inplace=True)\n",
            "df['education'].replace('7th-8th', 'dropout',inplace=True)\n",
            "df['education'].replace('9th', 'dropout',inplace=True)\n",
            "df['education'].replace('HS-Grad', 'HighGrad',inplace=True)\n",
            "df['education'].replace('HS-grad', 'HighGrad',inplace=True)\n",
            "df['education'].replace('Some-college', 'CommunityCollege',inplace=True)\n",
            "df['education'].replace('Assoc-acdm', 'CommunityCollege',inplace=True)\n",
            "df['education'].replace('Assoc-voc', 'CommunityCollege',inplace=True)\n",
            "df['education'].replace('Bachelors', 'Bachelors',inplace=True)\n",
            "df['education'].replace('Masters', 'Masters',inplace=True)\n",
            "df['education'].replace('Prof-school', 'Masters',inplace=True)\n",
            "df['education'].replace('Doctorate', 'Doctorate',inplace=True)\n",
            "\n",
            "df['marital-status'].replace('Never-married', 'NotMarried',inplace=True)\n",
            "df['marital-status'].replace(['Married-AF-spouse'], 'Married',inplace=True)\n",
            "df['marital-status'].replace(['Married-civ-spouse'], 'Married',inplace=True)\n",
            "df['marital-status'].replace(['Married-spouse-absent'], 'NotMarried',inplace=True)\n",
            "df['marital-status'].replace(['Separated'], 'Separated',inplace=True)\n",
            "df['marital-status'].replace(['Divorced'], 'Separated',inplace=True)\n",
            "df['marital-status'].replace(['Widowed'], 'Widowed',inplace=True)"
         ]
      },
      {
         "cell_type": "code",
         "execution_count": 78,
         "metadata": {
            "colab": {
               "base_uri": "https://localhost:8080/"
            },
            "id": "LiOxs_6mLAs1",
            "outputId": "c95418cf-2632-41d0-de0a-9caf109de113",
            "scrolled": true
         },
         "outputs": [
            {
               "name": "stderr",
               "output_type": "stream",
               "text": [
                  "c:\\Users\\barto\\AppData\\Local\\Programs\\Python\\Python311\\Lib\\site-packages\\sklearn\\preprocessing\\_encoders.py:975: FutureWarning: `sparse` was renamed to `sparse_output` in version 1.2 and will be removed in 1.4. `sparse_output` is ignored unless you leave `sparse` to its default value.\n",
                  "  warnings.warn(\n"
               ]
            },
            {
               "data": {
                  "text/plain": [
                     "((20838, 108), (20838,))"
                  ]
               },
               "execution_count": 78,
               "metadata": {},
               "output_type": "execute_result"
            }
         ],
         "source": [
            "from sklearn.model_selection import train_test_split\n",
            "from sklearn.preprocessing import MinMaxScaler, OneHotEncoder, StandardScaler\n",
            "\n",
            "\n",
            "X = df.copy()\n",
            "y = (X.pop(\"wage\") == ' >50K').astype(int).values\n",
            "\n",
            "train_valid_size = 0.2\n",
            "\n",
            "X_train, X_test, y_train, y_test = train_test_split(\n",
            "    X, y, \n",
            "    test_size=train_valid_size, \n",
            "    random_state=0, \n",
            "    shuffle=True, \n",
            "    stratify=y\n",
            ")\n",
            "X_train, X_valid, y_train, y_valid = train_test_split(\n",
            "    X_train, y_train, \n",
            "    test_size=train_valid_size, \n",
            "    random_state=0, \n",
            "    shuffle=True, \n",
            "    stratify=y_train\n",
            ")\n",
            "\n",
            "continuous_cols = ['age', 'fnlwgt', 'education-num', 'capital-gain', 'capital-loss', 'hours-per-week']\n",
            "continuous_X_train = X_train[continuous_cols]\n",
            "categorical_X_train = X_train.loc[:, ~X_train.columns.isin(continuous_cols)]\n",
            "\n",
            "continuous_X_valid = X_valid[continuous_cols]\n",
            "categorical_X_valid = X_valid.loc[:, ~X_valid.columns.isin(continuous_cols)]\n",
            "\n",
            "continuous_X_test = X_test[continuous_cols]\n",
            "categorical_X_test = X_test.loc[:, ~X_test.columns.isin(continuous_cols)]\n",
            "\n",
            "categorical_encoder = OneHotEncoder(sparse=False, handle_unknown='ignore')\n",
            "continuous_scaler = StandardScaler() #MinMaxScaler(feature_range=(-1, 1))\n",
            "\n",
            "categorical_encoder.fit(categorical_X_train)\n",
            "continuous_scaler.fit(continuous_X_train)\n",
            "\n",
            "continuous_X_train = continuous_scaler.transform(continuous_X_train)\n",
            "continuous_X_valid = continuous_scaler.transform(continuous_X_valid)\n",
            "continuous_X_test = continuous_scaler.transform(continuous_X_test)\n",
            "\n",
            "categorical_X_train = categorical_encoder.transform(categorical_X_train)\n",
            "categorical_X_valid = categorical_encoder.transform(categorical_X_valid)\n",
            "categorical_X_test = categorical_encoder.transform(categorical_X_test)\n",
            "\n",
            "X_train = np.concatenate([continuous_X_train, categorical_X_train], axis=1)\n",
            "X_valid = np.concatenate([continuous_X_valid, categorical_X_valid], axis=1)\n",
            "X_test = np.concatenate([continuous_X_test, categorical_X_test], axis=1)\n",
            "\n",
            "X_train.shape, y_train.shape"
         ]
      },
      {
         "cell_type": "markdown",
         "metadata": {},
         "source": [
            "Uwaga co do typów - PyTorchu wszystko w sieci neuronowej musi być typu `float32`. W szczególności trzeba uważać na konwersje z Numpy'a, który używa domyślnie typu `float64`. Może ci się przydać metoda `.float()`.\n",
            "\n",
            "Uwaga co do kształtów wyjścia - wejścia do `nn.BCELoss` muszą być tego samego kształtu. Może ci się przydać metoda `.squeeze()` lub `.unsqueeze()`."
         ]
      },
      {
         "cell_type": "code",
         "execution_count": 79,
         "metadata": {
            "id": "qfRA3xEoLAs1"
         },
         "outputs": [],
         "source": [
            "X_train = torch.from_numpy(X_train).float()\n",
            "y_train = torch.from_numpy(y_train).float().unsqueeze(-1)\n",
            "\n",
            "X_valid = torch.from_numpy(X_valid).float()\n",
            "y_valid = torch.from_numpy(y_valid).float().unsqueeze(-1)\n",
            "\n",
            "X_test = torch.from_numpy(X_test).float()\n",
            "y_test = torch.from_numpy(y_test).float().unsqueeze(-1)"
         ]
      },
      {
         "cell_type": "markdown",
         "metadata": {},
         "source": [
            "Podobnie jak w laboratorium 2, mamy tu do czynienia z klasyfikacją niezbalansowaną:"
         ]
      },
      {
         "cell_type": "code",
         "execution_count": 80,
         "metadata": {},
         "outputs": [
            {
               "data": {
                  "image/png": "[encoded data removed]",
                  "text/plain": [
                     "<Figure size 640x480 with 1 Axes>"
                  ]
               },
               "metadata": {},
               "output_type": "display_data"
            }
         ],
         "source": [
            "import matplotlib.pyplot as plt\n",
            "\n",
            "y_pos_perc = 100 * y_train.sum().item() / len(y_train)\n",
            "y_neg_perc = 100 - y_pos_perc\n",
            "\n",
            "plt.title(\"Class percentages\")\n",
            "plt.bar([\"<50k\", \">=50k\"], [y_neg_perc, y_pos_perc])\n",
            "plt.show()"
         ]
      },
      {
         "cell_type": "markdown",
         "metadata": {},
         "source": [
            "W związku z powyższym będziemy używać odpowiednich metryk, czyli AUROC, precyzji i czułości."
         ]
      },
      {
         "cell_type": "markdown",
         "metadata": {
            "id": "XLexWff-LAs0"
         },
         "source": [
            "#### Zadanie 3 (1.0 punkt)\n",
            "\n",
            "Zaimplementuj regresję logistyczną dla tego zbioru danych, używając PyTorcha. Dane wejściowe zostały dla ciebie przygotowane w komórkach poniżej.\n",
            "\n",
            "Sama sieć składa się z 2 elementów:\n",
            "- warstwa liniowa `nn.Linear`, przekształcająca wektor wejściowy na 1 wyjście - logit\n",
            "- aktywacja sigmoidalna `nn.Sigmoid`, przekształcająca logit na prawdopodobieństwo klasy pozytywnej\n",
            "\n",
            "Użyj binarnej entropii krzyżowej `nn.BCELoss` jako funkcji kosztu. Użyj optymalizatora SGD ze stałą uczącą `1e-3`. Trenuj przez 3000 epok. Pamiętaj, aby przekazać do optymalizatora `torch.optim.SGD` parametry sieci (metoda `.parameters()`). Dopisz logowanie kosztu raz na 100 epok."
         ]
      },
      {
         "cell_type": "code",
         "execution_count": 81,
         "metadata": {
            "colab": {
               "base_uri": "https://localhost:8080/"
            },
            "id": "NbABKz5-LAs2",
            "outputId": "086dc0f3-0184-4072-9fd3-275b60dee2e4",
            "scrolled": true
         },
         "outputs": [
            {
               "name": "stdout",
               "output_type": "stream",
               "text": [
                  "step 0 loss: 0.6999\n",
                  "step 100 loss: 0.6660\n",
                  "step 200 loss: 0.6377\n",
                  "step 300 loss: 0.6139\n",
                  "step 400 loss: 0.5938\n",
                  "step 500 loss: 0.5767\n",
                  "step 600 loss: 0.5619\n",
                  "step 700 loss: 0.5491\n",
                  "step 800 loss: 0.5378\n",
                  "step 900 loss: 0.5279\n",
                  "step 1000 loss: 0.5190\n",
                  "step 1100 loss: 0.5111\n",
                  "step 1200 loss: 0.5039\n",
                  "step 1300 loss: 0.4974\n",
                  "step 1400 loss: 0.4914\n",
                  "step 1500 loss: 0.4859\n",
                  "step 1600 loss: 0.4809\n",
                  "step 1700 loss: 0.4762\n",
                  "step 1800 loss: 0.4718\n",
                  "step 1900 loss: 0.4678\n",
                  "step 2000 loss: 0.4640\n",
                  "step 2100 loss: 0.4604\n",
                  "step 2200 loss: 0.4570\n",
                  "step 2300 loss: 0.4538\n",
                  "step 2400 loss: 0.4508\n",
                  "step 2500 loss: 0.4479\n",
                  "step 2600 loss: 0.4452\n",
                  "step 2700 loss: 0.4426\n",
                  "step 2800 loss: 0.4401\n",
                  "step 2900 loss: 0.4378\n",
                  "final loss: tensor(0.4356, grad_fn=<BinaryCrossEntropyBackward0>)\n"
               ]
            }
         ],
         "source": [
            "lr = 1e-3\n",
            "\n",
            "model = nn.Linear(108, 1)\n",
            "activation = nn.Sigmoid()\n",
            "optimizer = torch.optim.SGD(model.parameters(), lr = lr)\n",
            "loss_fn = nn.BCELoss()\n",
            "\n",
            "\n",
            "for i in range(3000):\n",
            "    y_pred = activation(model(X_train))\n",
            "    loss = loss_fn(y_pred, y_train)\n",
            "    loss.backward()\n",
            "\n",
            "    optimizer.step()\n",
            "    optimizer.zero_grad()\n",
            "\n",
            "    if i % 100 == 0:\n",
            "        if loss < best_loss:\n",
            "            best_loss = loss\n",
            "        print(f\"step {i} loss: {loss.item():.4f}\")\n",
            "\n",
            "print(\"final loss:\", loss)\n"
         ]
      },
      {
         "cell_type": "markdown",
         "metadata": {},
         "source": [
            "Teraz trzeba sprawdzić, jak poszło naszej sieci. W PyTorchu sieć pracuje zawsze w jednym z dwóch trybów: treningowym lub ewaluacyjnym (predykcyjnym). Ten drugi wyłącza niektóre mechanizmy, które są używane tylko podczas treningu, w szczególności regularyzację dropout. Do przełączania służą metody modelu `.train()` i `.eval()`.\n",
            "\n",
            "Dodatkowo podczas liczenia predykcji dobrze jest wyłączyć liczenie gradientów, bo nie będą potrzebne, a oszczędza to czas i pamięć. Używa się do tego menadżera kontekstu `with torch.no_grad():`."
         ]
      },
      {
         "cell_type": "code",
         "execution_count": 82,
         "metadata": {
            "colab": {
               "base_uri": "https://localhost:8080/"
            },
            "id": "zH37zDX4LAs2",
            "outputId": "b1f93309-6f04-4ffc-b0ca-08d0a32120a0",
            "scrolled": true
         },
         "outputs": [
            {
               "name": "stdout",
               "output_type": "stream",
               "text": [
                  "AUROC: 85.30%\n"
               ]
            }
         ],
         "source": [
            "from sklearn.metrics import precision_recall_curve, precision_recall_fscore_support, roc_auc_score\n",
            "\n",
            "\n",
            "model.eval()\n",
            "with torch.no_grad():\n",
            "    y_score = activation(model(X_test))\n",
            "\n",
            "auroc = roc_auc_score(y_test, y_score)\n",
            "print(f\"AUROC: {100 * auroc:.2f}%\")"
         ]
      },
      {
         "cell_type": "markdown",
         "metadata": {},
         "source": [
            "Jest to całkiem dobry wynik, a może być jeszcze lepszy. Sprawdźmy dla pewności jeszcze inne metryki: precyzję, recall oraz F1-score. Dodatkowo narysujemy krzywą precision-recall, czyli jak zmieniają się te metryki w zależności od przyjętego progu (threshold) prawdopodobieństwa, powyżej którego przyjmujemy klasę pozytywną. Taką krzywą należy rysować na zbiorze walidacyjnym, bo później chcemy wykorzystać tę informację do doboru progu, a nie chcemy mieć wycieku danych testowych (data leakage).\n",
            "\n",
            "Poniżej zaimplementowano także funkcję `get_optimal_threshold()`, która sprawdza, dla którego progu uzyskujemy maksymalny F1-score, i zwraca indeks oraz wartość optymalnego progu. Przyda ci się ona w dalszej części laboratorium."
         ]
      },
      {
         "cell_type": "code",
         "execution_count": 83,
         "metadata": {},
         "outputs": [],
         "source": [
            "from sklearn.metrics import PrecisionRecallDisplay\n",
            "\n",
            "\n",
            "def get_optimal_threshold(\n",
            "    precisions: np.array, \n",
            "    recalls: np.array, \n",
            "    thresholds: np.array\n",
            ") -> Tuple[int, float]:\n",
            "    \n",
            "    numerator = 2 * precisions * recalls\n",
            "    denominator = precisions + recalls\n",
            "    f1_scores = np.divide(numerator, denominator, out=np.zeros_like(numerator), where=denominator != 0)\n",
            "    \n",
            "    optimal_idx = np.argmax(f1_scores)\n",
            "    optimal_threshold = thresholds[optimal_idx]\n",
            "    \n",
            "    return optimal_idx, optimal_threshold\n",
            "\n",
            "\n",
            "def plot_precision_recall_curve(y_true, y_pred_score) -> None:\n",
            "    precisions, recalls, thresholds = precision_recall_curve(y_true, y_pred_score)\n",
            "    optimal_idx, optimal_threshold = get_optimal_threshold(precisions, recalls, thresholds)\n",
            "\n",
            "    disp = PrecisionRecallDisplay(precisions, recalls)\n",
            "    disp.plot()\n",
            "    plt.title(f\"Precision-recall curve (opt. thresh.: {optimal_threshold:.4f})\")\n",
            "    plt.axvline(recalls[optimal_idx], color=\"green\", linestyle=\"-.\")\n",
            "    plt.axhline(precisions[optimal_idx], color=\"green\", linestyle=\"-.\")\n",
            "    plt.show()\n"
         ]
      },
      {
         "cell_type": "code",
         "execution_count": 84,
         "metadata": {},
         "outputs": [
            {
               "data": {
                  "image/png": "[encoded data removed]",
                  "text/plain": [
                     "<Figure size 640x480 with 1 Axes>"
                  ]
               },
               "metadata": {},
               "output_type": "display_data"
            }
         ],
         "source": [
            "model.eval()\n",
            "with torch.no_grad():\n",
            "    y_pred_valid_score = activation(model(X_valid))\n",
            "\n",
            "plot_precision_recall_curve(y_valid, y_pred_valid_score)"
         ]
      },
      {
         "cell_type": "markdown",
         "metadata": {
            "id": "vfQPIUQ_LAs2"
         },
         "source": [
            "Jak widać, chociaż AUROC jest wysokie, to dla optymalnego F1-score recall nie jest zbyt wysoki, a precyzja jest już dość niska. Być może wynik uda się poprawić, używając modelu o większej pojemności - pełnej, głębokiej sieci neuronowej."
         ]
      },
      {
         "cell_type": "markdown",
         "metadata": {},
         "source": [
            "## Sieci neuronowe"
         ]
      },
      {
         "cell_type": "markdown",
         "metadata": {
            "id": "YP298w6Cq7T6"
         },
         "source": [
            "Wszystko zaczęło się od inspirowanych biologią [sztucznych neuronów](https://en.wikipedia.org/wiki/Artificial_neuron), których próbowano użyć do symulacji mózgu. Naukowcy szybko odeszli od tego podejścia (sam problem modelowania okazał się też znacznie trudniejszy, niż sądzono), zamiast tego używając neuronów jako jednostek reprezentującą dowolną funkcję parametryczną $f(x, \\Theta)$. Każdy neuron jest zatem bardzo elastyczny, bo jedyne wymagania to funkcja różniczkowalna, a mamy do tego wektor parametrów $\\Theta$.\n",
            "\n",
            "W praktyce najczęściej można spotkać się z kilkoma rodzinami sieci neuronowych:\n",
            "1. Perceptrony wielowarstwowe (*MultiLayer Perceptron*, MLP) - najbardziej podobne do powyższego opisu, niezbędne do klasyfikacji i regresji\n",
            "2. Konwolucyjne (*Convolutional Neural Networks*, CNNs) - do przetwarzania danych z zależnościami przestrzennymi, np. obrazów czy dźwięku\n",
            "3. Rekurencyjne (*Recurrent Neural Networks*, RNNs) - do przetwarzania danych z zależnościami sekwencyjnymi, np. szeregi czasowe, oraz kiedyś do języka naturalnego\n",
            "4. Transformacyjne (*Transformers*), oparte o mechanizm atencji (*attention*) - do przetwarzania języka naturalnego (NLP), z którego wyparły RNNs, a coraz częściej także do wszelkich innych danych, np. obrazów, dźwięku\n",
            "5. Grafowe (*Graph Neural Networks*, GNNS) - do przetwarzania grafów\n",
            "\n",
            "Na tym laboratorium skupimy się na najprostszej architekturze, czyli MLP. Jest ona powszechnie łączona z wszelkimi innymi architekturami, bo pozwala dokonywać klasyfikacji i regresji. Przykładowo, klasyfikacja obrazów to zwykle CNN + MLP, klasyfikacja tekstów to transformer + MLP, a regresja na grafach to GNN + MLP.\n",
            "\n",
            "Dodatkowo, pomimo prostoty MLP są bardzo potężne - udowodniono, że perceptrony (ich powszechna nazwa) są [uniwersalnym aproksymatorem](https://www.sciencedirect.com/science/article/abs/pii/0893608089900208), będącym w stanie przybliżyć dowolną funkcję z odpowiednio małym błędem, zakładając wystarczającą wielkość warstw sieci. Szczególne ich wersje potrafią nawet [reprezentować drzewa decyzyjne](https://www.youtube.com/watch?v=_okxGdHM5b8).\n",
            "\n",
            "Dla zainteresowanych polecamy [doskonałą książkę \"Dive into Deep Learning\", z implementacjami w PyTorchu](https://d2l.ai/chapter_multilayer-perceptrons/index.html), [klasyczną książkę \"Deep Learning Book\"](https://www.deeplearningbook.org/contents/mlp.html), oraz [ten filmik](https://www.youtube.com/watch?v=BFHrIxKcLjA), jeśli zastanawiałeś/-aś się, czemu używamy deep learning, a nie naprzykład (wide?) learning. (aka. czemu staramy się budować głębokie sieci, a nie płytkie za to szerokie)"
         ]
      },
      {
         "attachments": {
            "1_x-3NGQv0pRIab8xDT-f_Hg.png": {
               "image/png": "[encoded data removed]"
            }
         },
         "cell_type": "markdown",
         "metadata": {
            "id": "S_ZjoGBU5upj"
         },
         "source": [
            "### Sieci MLP\n",
            "\n",
            "Dla przypomnienia, na wejściu mamy punkty ze zbioru treningowego, czyli $d$-wymiarowe wektory. W klasyfikacji chcemy znaleźć granicę decyzyjną, czyli krzywą, która oddzieli od siebie klasy. W wejściowej przestrzeni może być to trudne, bo chmury punktów z poszczególnych klas mogą być ze sobą dość pomieszane. Pamiętajmy też, że regresja logistyczna jest klasyfikatorem liniowym, czyli w danej przestrzeni potrafi oddzielić punkty tylko linią prostą.\n",
            "\n",
            "Sieć MLP składa się z warstw. Każda z nich dokonuje nieliniowego przekształcenia przestrzeni (można o tym myśleć jak o składaniu przestrzeni jakąś prostą/łamaną), tak, aby w finalnej przestrzeni nasze punkty były możliwie liniowo separowalne. Wtedy ostatnia warstwa z sigmoidą będzie potrafiła je rozdzielić od siebie.\n",
            "\n",
            "![1_x-3NGQv0pRIab8xDT-f_Hg.png](attachment:1_x-3NGQv0pRIab8xDT-f_Hg.png)\n",
            "\n",
            "Poszczególne neurony składają się z iloczynu skalarnego wejść z wagami neuronu, oraz nieliniowej funkcji aktywacji. W PyTorchu są to osobne obiekty - `nn.Linear` oraz np. `nn.Sigmoid`. Funkcja aktywacji przyjmuje wynik iloczynu skalarnego i przekształca go, aby sprawdzić, jak mocno reaguje neuron na dane wejście. Musi być nieliniowa z dwóch powodów. Po pierwsze, tylko nieliniowe przekształcenia są na tyle potężne, żeby umożliwić liniową separację danych w ostatniej warstwie. Po drugie, liniowe przekształcenia zwyczajnie nie działają. Aby zrozumieć czemu, trzeba zobaczyć, co matematycznie oznacza sieć MLP.\n",
            "\n",
            "![perceptron](https://www.saedsayad.com/images/Perceptron_bkp_1.png)\n",
            "\n",
            "Zapisane matematycznie MLP to:\n",
            "\n",
            "$\\large\n",
            "h_1 = f_1(x) \\\\\n",
            "h_2 = f_2(h_1) \\\\\n",
            "h_3 = f_3(h_2) \\\\\n",
            "... \\\\\n",
            "h_n = f_n(h_{n-1})\n",
            "$\n",
            "\n",
            "gdzie $x$ to wejście $f_i$ to funkcja aktywacji $i$-tej warstwy, a $h_i$ to wyjście $i$-tej warstwy, nazywane **ukrytą reprezentacją (hidden representation)**, lub *latent representation*. Nazwa bierze się z tego, że w środku sieci wyciągamy cechy i wzorce w danych, które nie są widoczne na pierwszy rzut oka na wejściu.\n",
            "\n",
            "Załóżmy, że uczymy się na danych $x$ o jednym wymiarze (dla uproszczenia wzorów) oraz nie mamy funkcji aktywacji, czyli wykorzystujemy tak naprawdę aktywację liniową $f(x) = x$. Zobaczmy jak będą wyglądać dane przechodząc przez kolejne warstwy:\n",
            "\n",
            "$\\large\n",
            "h_1 = f_1(xw_1) = xw_1 \\\\\n",
            "h_2 = f_2(h_1w_2) = xw_1w_2 \\\\\n",
            "... \\\\\n",
            "h_n = f_n(h_{n-1}w_n) = xw_1w_2...w_n\n",
            "$\n",
            "\n",
            "gdzie $w_i$ to jest parametr $i$-tej warstwy sieci, $x$ to są dane (w naszym przypadku jedna liczba) wejściowa, a $h_i$ to wyjście $i$-tej warstwy.\n",
            "\n",
            "Jak widać, taka sieć o $n$ warstwach jest równoważna sieci o jednej warstwie z parametrem $w = w_1w_2...w_n$. Wynika to z tego, że złożenie funkcji liniowych jest także funkcją liniową - patrz notatki z algebry :)\n",
            "\n",
            "Jeżeli natomiast użyjemy nieliniowej funkcji aktywacji, często oznaczanej jako $\\sigma$, to wszystko będzie działać. Co ważne, ostatnia warstwa, dająca wyjście sieci, ma zwykle inną aktywację od warstw wewnątrz sieci, bo też ma inne zadanie - zwrócić wartość dla klasyfikacji lub regresji. Na wyjściu korzysta się z funkcji liniowej (regresja), sigmoidalnej (klasyfikacja binarna) lub softmax (klasyfikacja wieloklasowa).\n",
            "\n",
            "Wewnątrz sieci używano kiedyś sigmoidy oraz tangensa hiperbolicznego `tanh`, ale okazało się to nieefektywne przy uczeniu głębokich sieci o wielu warstwach. Nowoczesne sieci korzystają zwykle z funkcji ReLU (*rectified linear unit*), która jest zaskakująco prosta: $ReLU(x) = \\max(0, x)$. Okazało się, że bardzo dobrze nadaje się do treningu nawet bardzo głębokich sieci neuronowych. Nowsze funkcje aktywacji są głównie modyfikacjami ReLU.\n",
            "\n",
            "![relu](https://www.nomidl.com/wp-content/uploads/2022/04/image-10.png)"
         ]
      },
      {
         "cell_type": "markdown",
         "metadata": {},
         "source": [
            "### MLP w PyTorchu\n",
            "\n",
            "Warstwę neuronów w MLP nazywa się warstwą gęstą (*dense layer*) lub warstwą w pełni połączoną (*fully-connected layer*), i taki opis oznacza zwykle same neurony oraz funkcję aktywacji. PyTorch, jak już widzieliśmy, definiuje osobno transformację liniową oraz aktywację, a więc jedna warstwa składa się de facto z 2 obiektów, wywoływanych jeden po drugim. Inne frameworki, szczególnie wysokopoziomowe (np. Keras) łączą to często w jeden obiekt.\n",
            "\n",
            "MLP składa się zatem z sekwencji obiektów, które potem wywołuje się jeden po drugim, gdzie wyjście poprzedniego to wejście kolejnego. Ale nie można tutaj używać Pythonowych list! Z perspektywy PyTorcha to wtedy niezależne obiekty i nie zostanie wtedy przekazany między nimi gradient. Trzeba tutaj skorzystać z `nn.Sequential`, aby tworzyć taki pipeline.\n",
            "\n",
            "Rozmiary wejścia i wyjścia dla każdej warstwy trzeba w PyTorchu podawać explicite. Jest to po pierwsze edukacyjne, a po drugie często ułatwia wnioskowanie o działaniu sieci oraz jej debugowanie - mamy jasno podane, czego oczekujemy. Niektóre frameworki (np. Keras) obliczają to automatycznie.\n",
            "\n",
            "Co ważne, ostatnia warstwa zwykle nie ma funkcji aktywacji. Wynika to z tego, że obliczanie wielu funkcji kosztu (np. entropii krzyżowej) na aktywacjach jest często niestabilne numerycznie. Z tego powodu PyTorch oferuje funkcje kosztu zawierające w środku aktywację dla ostatniej warstwy, a ich implementacje są stabilne numerycznie. Przykładowo, `nn.BCELoss` przyjmuje wejście z zaaplikowanymi już aktywacjami, ale może skutkować under/overflow, natomiast `nn.BCEWithLogitsLoss` przyjmuje wejście bez aktywacji, a w środku ma specjalną implementację łączącą binarną entropię krzyżową z aktywacją sigmoidalną. Oczywiście w związku z tym aby dokonać potem predykcji w praktyce, trzeba pamiętać o użyciu funkcji aktywacji. Często korzysta się przy tym z funkcji z modułu `torch.nn.functional`, które są w tym wypadku nieco wygodniejsze od klas wywoływalnych z `torch.nn`.\n",
            "\n",
            "Całe sieci w PyTorchu tworzy się jako klasy dziedziczące po `nn.Module`. Co ważne, obiekty, z których tworzymy sieć, np. `nn.Linear`, także dziedziczą po tej klasie. Pozwala to na bardzo modułową budowę kodu, zgodną z zasadami OOP. W konstruktorze najpierw trzeba zawsze wywołać konstruktor rodzica - `super().__init__()`, a później tworzy się potrzebne obiekty i zapisuje jako atrybuty. Każdy atrybut dziedziczący po `nn.Module` lub `nn.Parameter` jest uważany za taki, który zawiera parametry sieci, a więc przy wywołaniu metody `parameters()` - parametry z tych atrybutów pojawią się w liście wszystkich parametrów. Musimy też zdefiniować metodę `forward()`, która przyjmuje tensor `x` i zwraca wynik. Typowo ta metoda po prostu używa obiektów zdefiniowanych w konstruktorze.\n",
            "\n",
            "\n",
            "**UWAGA: nigdy w normalnych warunkach się nie woła metody `forward` ręcznie**"
         ]
      },
      {
         "cell_type": "markdown",
         "metadata": {
            "id": "J8niDgExAMDO"
         },
         "source": [
            "#### Zadanie 4 (0.5 punktu)\n",
            "\n",
            "Uzupełnij implementację 3-warstwowej sieci MLP. Użyj rozmiarów:\n",
            "* pierwsza warstwa: input_size x 256\n",
            "* druga warstwa: 256 x 128\n",
            "* trzecia warstwa: 128 x 1\n",
            "\n",
            "Użyj funkcji aktywacji ReLU.\n",
            "\n",
            "Przydatne klasy:\n",
            "- `nn.Sequential`\n",
            "- `nn.Linear`\n",
            "- `nn.ReLU`"
         ]
      },
      {
         "cell_type": "code",
         "execution_count": 85,
         "metadata": {},
         "outputs": [],
         "source": [
            "from torch import sigmoid\n",
            "\n",
            "\n",
            "class MLP(nn.Module):\n",
            "    def __init__(self, input_size: int):\n",
            "        super().__init__()\n",
            "\n",
            "        self.flatten = nn.Flatten()\n",
            "        \n",
            "        self.layers = nn.Sequential(\n",
            "            nn.Linear(input_size, 256),\n",
            "            nn.ReLU(),\n",
            "            nn.Linear(256, 128),\n",
            "            nn.ReLU(),\n",
            "            nn.Linear(128, 1),\n",
            "        )\n",
            "\n",
            "    def forward(self, x):\n",
            "        # implement me!\n",
            "        # your_code\n",
            "        return self.layers(self.flatten(x))\n",
            "\n",
            "    def predict_proba(self, x):\n",
            "        return sigmoid(self(x))\n",
            "    \n",
            "    def predict(self, x, threshold: float = 0.5):\n",
            "        y_pred_score = self.predict_proba(x)\n",
            "        return (y_pred_score > threshold).to(torch.int32)\n"
         ]
      },
      {
         "cell_type": "code",
         "execution_count": 86,
         "metadata": {},
         "outputs": [
            {
               "name": "stdout",
               "output_type": "stream",
               "text": [
                  "Epoch 0 train loss: 0.7127\n",
                  "Epoch 200 train loss: 0.6842\n",
                  "Epoch 400 train loss: 0.6601\n",
                  "Epoch 600 train loss: 0.6393\n",
                  "Epoch 800 train loss: 0.6214\n",
                  "Epoch 1000 train loss: 0.6057\n",
                  "Epoch 1200 train loss: 0.5919\n",
                  "Epoch 1400 train loss: 0.5799\n",
                  "Epoch 1600 train loss: 0.5693\n",
                  "Epoch 1800 train loss: 0.5600\n",
                  "final loss: 0.5518\n"
               ]
            }
         ],
         "source": [
            "learning_rate = 1e-3\n",
            "model = MLP(input_size=X_train.shape[1])\n",
            "optimizer = torch.optim.SGD(model.parameters(), lr=learning_rate)\n",
            "\n",
            "# note that we are using loss function with sigmoid built in\n",
            "loss_fn = torch.nn.BCEWithLogitsLoss()\n",
            "num_epochs = 2000\n",
            "evaluation_steps = 200\n",
            "\n",
            "for i in range(num_epochs):\n",
            "    y_pred = model(X_train)\n",
            "    loss = loss_fn(y_pred, y_train)\n",
            "    loss.backward()\n",
            "\n",
            "    optimizer.step()\n",
            "    optimizer.zero_grad()\n",
            "\n",
            "    if i % evaluation_steps == 0:\n",
            "        print(f\"Epoch {i} train loss: {loss.item():.4f}\")\n",
            "\n",
            "print(f\"final loss: {loss.item():.4f}\")"
         ]
      },
      {
         "cell_type": "code",
         "execution_count": 87,
         "metadata": {
            "colab": {
               "base_uri": "https://localhost:8080/"
            },
            "id": "LP5GSup24dXU",
            "outputId": "05f332c4-5d94-41f6-f85b-17793d3c4b49"
         },
         "outputs": [
            {
               "name": "stdout",
               "output_type": "stream",
               "text": [
                  "AUROC: 85.30%\n"
               ]
            },
            {
               "data": {
                  "image/png": "[encoded data removed]",
                  "text/plain": [
                     "<Figure size 640x480 with 1 Axes>"
                  ]
               },
               "metadata": {},
               "output_type": "display_data"
            }
         ],
         "source": [
            "model.eval()\n",
            "with torch.no_grad():\n",
            "    # positive class probabilities\n",
            "    y_pred_valid_score = model.predict_proba(X_valid)\n",
            "    y_pred_test_score = model.predict_proba(X_test)\n",
            "\n",
            "auroc = roc_auc_score(y_test, y_score)\n",
            "print(f\"AUROC: {100 * auroc:.2f}%\")\n",
            "\n",
            "plot_precision_recall_curve(y_valid, y_pred_valid_score)"
         ]
      },
      {
         "cell_type": "markdown",
         "metadata": {},
         "source": [
            "AUROC jest podobne, a precision i recall spadły - wypadamy wręcz gorzej od regresji liniowej! Skoro dodaliśmy więcej warstw, to może pojemność modelu jest teraz za duża i trzeba by go zregularyzować?\n",
            "\n",
            "Sieci neuronowe bardzo łatwo przeuczają, bo są bardzo elastycznymi i pojemnymi modelami. Dlatego mają wiele różnych rodzajów regularyzacji, których używa się razem. Co ciekawe, udowodniono eksperymentalnie, że zbyt duże sieci z mocną regularyzacją działają lepiej niż mniejsze sieci, odpowiedniego rozmiaru, za to ze słabszą regularyzacją.\n",
            "\n",
            "Pierwszy rodzaj regularyzacji to znana nam już **regularyzacja L2**, czyli penalizacja zbyt dużych wag. W kontekście sieci neuronowych nazywa się też ją czasem *weight decay*. W PyTorchu dodaje się ją jako argument do optymalizatora.\n",
            "\n",
            "Regularyzacja specyficzna dla sieci neuronowych to **dropout**. Polega on na losowym wyłączaniu zadanego procenta neuronów podczas treningu. Pomimo prostoty okazała się niesamowicie skuteczna, szczególnie w treningu bardzo głębokich sieci. Co ważne, jest to mechanizm używany tylko podczas treningu - w trakcie predykcji za pomocą sieci wyłącza się ten mechanizm i dokonuje normalnie predykcji całą siecią. Podejście to można potraktować jak ensemble learning, podobny do lasów losowych - wyłączając losowe części sieci, w każdej iteracji trenujemy nieco inną sieć, co odpowiada uśrednianiu predykcji różnych algorytmów. Typowo stosuje się dość mocny dropout, rzędu 25-50%. W PyTorchu implementuje go warstwa `nn.Dropout`, aplikowana zazwyczaj po funkcji aktywacji.\n",
            "\n",
            "Ostatni, a być może najważniejszy rodzaj regularyzacji to **wczesny stop (early stopping)**. W każdym kroku mocniej dostosowujemy terenową sieć do zbioru treningowego, a więc zbyt długi trening będzie skutkował przeuczeniem. W metodzie wczesnego stopu używamy wydzielonego zbioru walidacyjnego (pojedynczego, metoda holdout), sprawdzając co określoną liczbę epok wynik na tym zbiorze. Jeżeli nie uzyskamy wyniku lepszego od najlepszego dotychczas uzyskanego przez określoną liczbę epok, to przerywamy trening. Okres, przez który czekamy na uzyskanie lepszego wyniku, to cierpliwość (*patience*). Im mniejsze, tym mocniejszy jest ten rodzaj regularyzacji, ale trzeba z tym uważać, bo łatwo jest przesadzić i zbyt szybko przerywać trening. Niektóre implementacje uwzględniają tzw. *grace period*, czyli gwarantowaną minimalną liczbę epok, przez którą będziemy trenować sieć, niezależnie od wybranej cierpliwości.\n",
            "\n",
            "Dodatkowo ryzyko przeuczenia można zmniejszyć, używając mniejszej stałej uczącej."
         ]
      },
      {
         "cell_type": "markdown",
         "metadata": {},
         "source": [
            "#### Zadanie 5 (1.5 punktu)\n",
            "\n",
            "Zaimplementuj funkcję `evaluate_model()`, obliczającą metryki na zbiorze testowym:\n",
            "- wartość funkcji kosztu (loss)\n",
            "- AUROC\n",
            "- optymalny próg\n",
            "- F1-score przy optymalnym progu\n",
            "- precyzję oraz recall dla optymalnego progu\n",
            "\n",
            "Jeżeli podana jest wartość argumentu `threshold`, to użyj jej do zamiany prawdopodobieństw na twarde predykcje. W przeciwnym razie użyj funkcji `get_optimal_threshold` i oblicz optymalną wartość progu.\n",
            "\n",
            "Pamiętaj o przełączeniu modelu w tryb ewaluacji oraz o wyłączeniu obliczania gradientów."
         ]
      },
      {
         "cell_type": "code",
         "execution_count": 88,
         "metadata": {},
         "outputs": [],
         "source": [
            "from typing import Optional\n",
            "\n",
            "from sklearn.metrics import precision_score, recall_score, f1_score\n",
            "from torch import sigmoid\n",
            "\n",
            "\n",
            "def evaluate_model(\n",
            "    model: nn.Module,\n",
            "    X: torch.Tensor,\n",
            "    y: torch.Tensor,\n",
            "    loss_fn: nn.Module,\n",
            "    threshold: Optional[float] = None,\n",
            ") -> Dict[str, float]:\n",
            "    # implement me!\n",
            "    # your_code\n",
            "    model.eval()\n",
            "    with torch.no_grad():\n",
            "        y_score = sigmoid(model(X))\n",
            "\n",
            "    if threshold is None:\n",
            "        precisions, recalls, thresholds = precision_recall_curve(y, y_score)\n",
            "        _, threshold = get_optimal_threshold(precisions, recalls, thresholds)\n",
            "\n",
            "    y_pred = y_score > threshold\n",
            "\n",
            "    loss = loss_fn(y_score, y)\n",
            "    auroc = roc_auc_score(y, y_score)\n",
            "    F1_score = f1_score(y, y_pred)\n",
            "    precision = precision_score(y, y_pred)\n",
            "    recall = recall_score(y, y_pred)\n",
            "\n",
            "    return {\n",
            "        \"loss\": loss,\n",
            "        \"AUROC\": auroc,\n",
            "        \"threshold\": threshold,\n",
            "        \"F1-score\": F1_score,\n",
            "        \"precision\": precision,\n",
            "        \"recall\": recall,\n",
            "    }"
         ]
      },
      {
         "cell_type": "markdown",
         "metadata": {},
         "source": [
            "#### Zadanie 6 (0.5 punktu)\n",
            "\n",
            "Zaimplementuj 3-warstwową sieć MLP z dropout (50%). Rozmiary warstw ukrytych mają wynosić 256 i 128."
         ]
      },
      {
         "cell_type": "code",
         "execution_count": 89,
         "metadata": {},
         "outputs": [],
         "source": [
            "class RegularizedMLP(nn.Module):\n",
            "    def __init__(self, input_size: int, dropout_p: float = 0.5):\n",
            "        super().__init__()\n",
            "\n",
            "        self.layers = nn.Sequential(\n",
            "            nn.Linear(input_size, 256),\n",
            "            nn.ReLU(),\n",
            "            nn.Dropout(dropout_p),\n",
            "            nn.Linear(256, 128),\n",
            "            nn.ReLU(),\n",
            "            nn.Dropout(dropout_p),\n",
            "            nn.Linear(128, 1),\n",
            "        )\n",
            "\n",
            "    def forward(self, x):\n",
            "        return self.layers(x)\n",
            "\n",
            "    def predict_proba(self, x):\n",
            "        return sigmoid(self(x))\n",
            "\n",
            "    def predict(self, x, threshold: float = 0.5):\n",
            "        y_pred_score = self.predict_proba(x)\n",
            "        return (y_pred_score > threshold).to(torch.int32)"
         ]
      },
      {
         "cell_type": "markdown",
         "metadata": {
            "id": "rEk9azaULAsz"
         },
         "source": [
            "Opisaliśmy wcześniej podstawowy optymalizator w sieciach neuronowych - spadek wzdłuż gradientu. Jednak wymaga on użycia całego zbioru danych, aby obliczyć gradient, co jest często niewykonalne przez rozmiar zbioru. Dlatego wymyślono **stochastyczny spadek wzdłuż gradientu (stochastic gradient descent, SGD)**, w którym używamy 1 przykładu naraz, liczymy gradient tylko po nim i aktualizujemy parametry. Jest to oczywiście dość grube przybliżenie gradientu, ale pozwala robić szybko dużo małych kroków. Kompromisem, którego używa się w praktyce, jest **minibatch gradient descent**, czyli używanie batchy np. 32, 64 czy 128 przykładów.\n",
            "\n",
            "Rzadko wspominanym, a ważnym faktem jest także to, że stochastyczność metody optymalizacji jest sama w sobie też [metodą regularyzacji](https://arxiv.org/abs/2101.12176), a więc `batch_size` to także hiperparametr.\n",
            "\n",
            "Obecnie najpopularniejszą odmianą SGD jest [Adam](https://arxiv.org/abs/1412.6980), gdyż uczy on szybko sieć oraz daje bardzo dobre wyniki nawet przy niekoniecznie idealnie dobranych hiperparametrach. W PyTorchu najlepiej korzystać z jego implementacji `AdamW`, która jest nieco lepsza niż implementacja `Adam`. Jest to zasadniczo zawsze wybór domyślny przy treningu współczesnych sieci neuronowych.\n",
            "\n",
            "Na razie użyjemy jednak minibatch SGD."
         ]
      },
      {
         "cell_type": "markdown",
         "metadata": {},
         "source": [
            "Poniżej znajduje się implementacja prostej klasy dziedziczącej po `Dataset` - tak w PyTorchu implementuje się własne zbiory danych. Użycie takich klas umożliwia użycie klas ładujących dane (`DataLoader`), które z kolei pozwalają łatwo ładować batche danych. Trzeba w takiej klasie zaimplementować metody:\n",
            "- `__len__` - zwraca ilość punktów w zbiorze\n",
            "- `__getitem__` - zwraca przykład ze zbioru pod danym indeksem oraz jego klasę\n"
         ]
      },
      {
         "cell_type": "code",
         "execution_count": 90,
         "metadata": {},
         "outputs": [],
         "source": [
            "from torch.utils.data import Dataset\n",
            "\n",
            "\n",
            "class MyDataset(Dataset):\n",
            "    def __init__(self, data, y):\n",
            "        super().__init__()\n",
            "\n",
            "        self.data = data\n",
            "        self.y = y\n",
            "\n",
            "    def __len__(self):\n",
            "        return self.data.shape[0]\n",
            "\n",
            "    def __getitem__(self, idx):\n",
            "        return self.data[idx], self.y[idx]"
         ]
      },
      {
         "cell_type": "markdown",
         "metadata": {},
         "source": [
            "#### Zadanie 7 (1.5 punktu)\n",
            "\n",
            "Zaimplementuj pętlę treningowo-walidacyjną dla sieci neuronowej. Wykorzystaj podane wartości hiperparametrów do treningu (stała ucząca, prawdopodobieństwo dropoutu, regularyzacja L2, rozmiar batcha, maksymalna liczba epok). Użyj optymalizatora SGD.\n",
            "\n",
            "Dodatkowo zaimplementuj regularyzację przez early stopping. Sprawdzaj co epokę wynik na zbiorze walidacyjnym. Użyj podanej wartości patience, a jako metryki po prostu wartości funkcji kosztu. Może się tutaj przydać zaimplementowana funkcja `evaluate_model()`.\n",
            "\n",
            "Pamiętaj o tym, aby przechowywać najlepszy dotychczasowy wynik walidacyjny oraz najlepszy dotychczasowy model. Zapamiętaj też optymalny próg do klasyfikacji dla najlepszego modelu."
         ]
      },
      {
         "cell_type": "code",
         "execution_count": 91,
         "metadata": {},
         "outputs": [],
         "source": [
            "from copy import deepcopy\n",
            "\n",
            "from torch.utils.data import DataLoader\n",
            "\n",
            "\n",
            "learning_rate = 1e-3\n",
            "dropout_p = 0.5\n",
            "l2_reg = 1e-4\n",
            "batch_size = 128\n",
            "max_epochs = 300\n",
            "\n",
            "early_stopping_patience = 4"
         ]
      },
      {
         "cell_type": "code",
         "execution_count": 92,
         "metadata": {
            "scrolled": true
         },
         "outputs": [
            {
               "name": "stdout",
               "output_type": "stream",
               "text": [
                  "Epoch 0 train loss: 0.6759, eval loss 0.8469221591949463\n",
                  "Epoch 1 train loss: 0.6521, eval loss 0.8398059606552124\n",
                  "Epoch 2 train loss: 0.6392, eval loss 0.8331607580184937\n",
                  "Epoch 3 train loss: 0.6206, eval loss 0.8268794417381287\n",
                  "Epoch 4 train loss: 0.6053, eval loss 0.8209486603736877\n",
                  "Epoch 5 train loss: 0.5897, eval loss 0.8153285384178162\n",
                  "Epoch 6 train loss: 0.5895, eval loss 0.8100261688232422\n",
                  "Epoch 7 train loss: 0.5839, eval loss 0.8050152659416199\n",
                  "Epoch 8 train loss: 0.5735, eval loss 0.8002916574478149\n",
                  "Epoch 9 train loss: 0.5632, eval loss 0.795811116695404\n",
                  "Epoch 10 train loss: 0.5620, eval loss 0.7916676998138428\n",
                  "Epoch 11 train loss: 0.5519, eval loss 0.7877283096313477\n",
                  "Epoch 12 train loss: 0.5415, eval loss 0.784042477607727\n",
                  "Epoch 13 train loss: 0.5444, eval loss 0.7806072235107422\n",
                  "Epoch 14 train loss: 0.5352, eval loss 0.7774272561073303\n",
                  "Epoch 15 train loss: 0.5283, eval loss 0.7744669914245605\n",
                  "Epoch 16 train loss: 0.5307, eval loss 0.7716946601867676\n",
                  "Epoch 17 train loss: 0.5262, eval loss 0.7691008448600769\n",
                  "Epoch 18 train loss: 0.5310, eval loss 0.7666952013969421\n",
                  "Epoch 19 train loss: 0.5153, eval loss 0.7644234895706177\n",
                  "Epoch 20 train loss: 0.5156, eval loss 0.7623220086097717\n",
                  "Epoch 21 train loss: 0.5018, eval loss 0.7603294849395752\n",
                  "Epoch 22 train loss: 0.4898, eval loss 0.7584604620933533\n",
                  "Epoch 23 train loss: 0.5046, eval loss 0.7567156553268433\n",
                  "Epoch 24 train loss: 0.4899, eval loss 0.7550398707389832\n",
                  "Epoch 25 train loss: 0.4921, eval loss 0.7534721493721008\n",
                  "Epoch 26 train loss: 0.4918, eval loss 0.7519315481185913\n",
                  "Epoch 27 train loss: 0.4907, eval loss 0.7504879236221313\n",
                  "Epoch 28 train loss: 0.4892, eval loss 0.7490794658660889\n",
                  "Epoch 29 train loss: 0.4801, eval loss 0.7477117776870728\n",
                  "Epoch 30 train loss: 0.4897, eval loss 0.7463889718055725\n",
                  "Epoch 31 train loss: 0.4680, eval loss 0.7451578378677368\n",
                  "Epoch 32 train loss: 0.4825, eval loss 0.7439106106758118\n",
                  "Epoch 33 train loss: 0.4651, eval loss 0.742730438709259\n",
                  "Epoch 34 train loss: 0.4929, eval loss 0.7415924072265625\n",
                  "Epoch 35 train loss: 0.4629, eval loss 0.7404907941818237\n",
                  "Epoch 36 train loss: 0.4493, eval loss 0.7393782138824463\n",
                  "Epoch 37 train loss: 0.4522, eval loss 0.738334059715271\n",
                  "Epoch 38 train loss: 0.4529, eval loss 0.7373043298721313\n",
                  "Epoch 39 train loss: 0.4561, eval loss 0.7362716794013977\n",
                  "Epoch 40 train loss: 0.4542, eval loss 0.7352945804595947\n",
                  "Epoch 41 train loss: 0.4508, eval loss 0.7342633008956909\n",
                  "Epoch 42 train loss: 0.4376, eval loss 0.7333248853683472\n",
                  "Epoch 43 train loss: 0.4561, eval loss 0.7324113845825195\n",
                  "Epoch 44 train loss: 0.4468, eval loss 0.7315380573272705\n",
                  "Epoch 45 train loss: 0.4499, eval loss 0.7306922078132629\n",
                  "Epoch 46 train loss: 0.4454, eval loss 0.7298603653907776\n",
                  "Epoch 47 train loss: 0.4322, eval loss 0.7290237545967102\n",
                  "Epoch 48 train loss: 0.4338, eval loss 0.7281943559646606\n",
                  "Epoch 49 train loss: 0.4409, eval loss 0.7274107336997986\n",
                  "Epoch 50 train loss: 0.4320, eval loss 0.7266110777854919\n",
                  "Epoch 51 train loss: 0.4276, eval loss 0.7258710861206055\n",
                  "Epoch 52 train loss: 0.4384, eval loss 0.7252101898193359\n",
                  "Epoch 53 train loss: 0.4301, eval loss 0.7244545221328735\n",
                  "Epoch 54 train loss: 0.4395, eval loss 0.7237902879714966\n",
                  "Epoch 55 train loss: 0.4205, eval loss 0.7230926752090454\n",
                  "Epoch 56 train loss: 0.4352, eval loss 0.7225139141082764\n",
                  "Epoch 57 train loss: 0.4150, eval loss 0.7219253182411194\n",
                  "Epoch 58 train loss: 0.4199, eval loss 0.7212467193603516\n",
                  "Epoch 59 train loss: 0.4262, eval loss 0.7206317782402039\n",
                  "Epoch 60 train loss: 0.4345, eval loss 0.7200750112533569\n",
                  "Epoch 61 train loss: 0.4368, eval loss 0.7195112705230713\n",
                  "Epoch 62 train loss: 0.4288, eval loss 0.7189823985099792\n",
                  "Epoch 63 train loss: 0.4349, eval loss 0.7185009121894836\n",
                  "Epoch 64 train loss: 0.4133, eval loss 0.717974066734314\n",
                  "Epoch 65 train loss: 0.4106, eval loss 0.7174762487411499\n",
                  "Epoch 66 train loss: 0.3880, eval loss 0.7169674634933472\n",
                  "Epoch 67 train loss: 0.4175, eval loss 0.7165259718894958\n",
                  "Epoch 68 train loss: 0.4030, eval loss 0.7160853743553162\n",
                  "Epoch 69 train loss: 0.4053, eval loss 0.7156457304954529\n",
                  "Epoch 70 train loss: 0.4078, eval loss 0.7151685357093811\n",
                  "Epoch 71 train loss: 0.4118, eval loss 0.7146766781806946\n",
                  "Epoch 72 train loss: 0.4237, eval loss 0.7142891883850098\n",
                  "Epoch 73 train loss: 0.4260, eval loss 0.713877260684967\n",
                  "Epoch 74 train loss: 0.3896, eval loss 0.7135597467422485\n",
                  "Epoch 75 train loss: 0.3982, eval loss 0.7132124900817871\n",
                  "Epoch 76 train loss: 0.4172, eval loss 0.7128891944885254\n",
                  "Epoch 77 train loss: 0.4274, eval loss 0.7125176191329956\n",
                  "Epoch 78 train loss: 0.3850, eval loss 0.7122034430503845\n",
                  "Epoch 79 train loss: 0.4020, eval loss 0.7118727564811707\n",
                  "Epoch 80 train loss: 0.4181, eval loss 0.7115535140037537\n",
                  "Epoch 81 train loss: 0.4010, eval loss 0.7112092971801758\n",
                  "Epoch 82 train loss: 0.4175, eval loss 0.7109302878379822\n",
                  "Epoch 83 train loss: 0.4119, eval loss 0.7106320858001709\n",
                  "Epoch 84 train loss: 0.4017, eval loss 0.7103651762008667\n",
                  "Epoch 85 train loss: 0.4099, eval loss 0.7100427150726318\n",
                  "Epoch 86 train loss: 0.3883, eval loss 0.7097834944725037\n",
                  "Epoch 87 train loss: 0.4152, eval loss 0.7094864249229431\n",
                  "Epoch 88 train loss: 0.3936, eval loss 0.7091678977012634\n",
                  "Epoch 89 train loss: 0.4032, eval loss 0.708935558795929\n",
                  "Epoch 90 train loss: 0.3873, eval loss 0.7087289690971375\n",
                  "Epoch 91 train loss: 0.4220, eval loss 0.7084490656852722\n",
                  "Epoch 92 train loss: 0.4004, eval loss 0.7082067131996155\n",
                  "Epoch 93 train loss: 0.3978, eval loss 0.7079769372940063\n",
                  "Epoch 94 train loss: 0.3938, eval loss 0.7077427506446838\n",
                  "Epoch 95 train loss: 0.4010, eval loss 0.707522988319397\n",
                  "Epoch 96 train loss: 0.4107, eval loss 0.7073432207107544\n",
                  "Epoch 97 train loss: 0.3892, eval loss 0.7071601152420044\n",
                  "Epoch 98 train loss: 0.3897, eval loss 0.7069043517112732\n",
                  "Epoch 99 train loss: 0.3751, eval loss 0.7067548632621765\n",
                  "Epoch 100 train loss: 0.4064, eval loss 0.7065463662147522\n",
                  "Epoch 101 train loss: 0.4000, eval loss 0.7063425779342651\n",
                  "Epoch 102 train loss: 0.3925, eval loss 0.7061630487442017\n",
                  "Epoch 103 train loss: 0.4132, eval loss 0.7060257792472839\n",
                  "Epoch 104 train loss: 0.4118, eval loss 0.7058884501457214\n",
                  "Epoch 105 train loss: 0.3851, eval loss 0.70570969581604\n",
                  "Epoch 106 train loss: 0.3788, eval loss 0.7055233716964722\n",
                  "Epoch 107 train loss: 0.3789, eval loss 0.7053256630897522\n",
                  "Epoch 108 train loss: 0.3974, eval loss 0.7051136493682861\n",
                  "Epoch 109 train loss: 0.4054, eval loss 0.7049119472503662\n",
                  "Epoch 110 train loss: 0.4122, eval loss 0.7047545313835144\n",
                  "Epoch 111 train loss: 0.3951, eval loss 0.7046340107917786\n",
                  "Epoch 112 train loss: 0.4077, eval loss 0.7045324444770813\n",
                  "Epoch 113 train loss: 0.3823, eval loss 0.7043806314468384\n",
                  "Epoch 114 train loss: 0.3801, eval loss 0.7042280435562134\n",
                  "Epoch 115 train loss: 0.4046, eval loss 0.7040532231330872\n",
                  "Epoch 116 train loss: 0.3823, eval loss 0.7039296627044678\n",
                  "Epoch 117 train loss: 0.3950, eval loss 0.7038769125938416\n",
                  "Epoch 118 train loss: 0.3723, eval loss 0.7037612795829773\n",
                  "Epoch 119 train loss: 0.3729, eval loss 0.703625500202179\n",
                  "Epoch 120 train loss: 0.3820, eval loss 0.7034704685211182\n",
                  "Epoch 121 train loss: 0.3758, eval loss 0.7034035325050354\n",
                  "Epoch 122 train loss: 0.3710, eval loss 0.7032877802848816\n",
                  "Epoch 123 train loss: 0.3862, eval loss 0.7031311392784119\n",
                  "Epoch 124 train loss: 0.4099, eval loss 0.7030597925186157\n",
                  "Epoch 125 train loss: 0.4188, eval loss 0.7029123306274414\n",
                  "Epoch 126 train loss: 0.3992, eval loss 0.7027957439422607\n",
                  "Epoch 127 train loss: 0.3754, eval loss 0.7027413845062256\n",
                  "Epoch 128 train loss: 0.3907, eval loss 0.7026327848434448\n",
                  "Epoch 129 train loss: 0.3925, eval loss 0.7024897933006287\n",
                  "Epoch 130 train loss: 0.3730, eval loss 0.7023957371711731\n",
                  "Epoch 131 train loss: 0.4146, eval loss 0.7022640705108643\n",
                  "Epoch 132 train loss: 0.3756, eval loss 0.7022344470024109\n",
                  "Epoch 133 train loss: 0.4067, eval loss 0.7021352648735046\n",
                  "Epoch 134 train loss: 0.3742, eval loss 0.7019602060317993\n",
                  "Epoch 135 train loss: 0.4127, eval loss 0.7019002437591553\n",
                  "Epoch 136 train loss: 0.4116, eval loss 0.701780378818512\n",
                  "Epoch 137 train loss: 0.3949, eval loss 0.7017200589179993\n",
                  "Epoch 138 train loss: 0.3991, eval loss 0.7016836404800415\n",
                  "Epoch 139 train loss: 0.3837, eval loss 0.7016034126281738\n",
                  "Epoch 140 train loss: 0.3581, eval loss 0.7015178203582764\n",
                  "Epoch 141 train loss: 0.3775, eval loss 0.701397716999054\n",
                  "Epoch 142 train loss: 0.3924, eval loss 0.7012892365455627\n",
                  "Epoch 143 train loss: 0.3778, eval loss 0.7011357545852661\n",
                  "Epoch 144 train loss: 0.3801, eval loss 0.7010247111320496\n",
                  "Epoch 145 train loss: 0.3887, eval loss 0.7009288668632507\n",
                  "Epoch 146 train loss: 0.4019, eval loss 0.7008526921272278\n",
                  "Epoch 147 train loss: 0.4108, eval loss 0.7007789015769958\n",
                  "Epoch 148 train loss: 0.3914, eval loss 0.7006810307502747\n",
                  "Epoch 149 train loss: 0.3513, eval loss 0.7006810903549194\n",
                  "Epoch 150 train loss: 0.3635, eval loss 0.7006252408027649\n",
                  "Epoch 151 train loss: 0.3809, eval loss 0.7005028128623962\n",
                  "Epoch 152 train loss: 0.3585, eval loss 0.7003873586654663\n",
                  "Epoch 153 train loss: 0.3700, eval loss 0.700268030166626\n",
                  "Epoch 154 train loss: 0.3579, eval loss 0.7001822590827942\n",
                  "Epoch 155 train loss: 0.3594, eval loss 0.7001737952232361\n",
                  "Epoch 156 train loss: 0.4076, eval loss 0.7001101970672607\n",
                  "Epoch 157 train loss: 0.3968, eval loss 0.7000168561935425\n",
                  "Epoch 158 train loss: 0.3769, eval loss 0.7000091671943665\n",
                  "Epoch 159 train loss: 0.3698, eval loss 0.6999551653862\n",
                  "Epoch 160 train loss: 0.3739, eval loss 0.699863612651825\n",
                  "Epoch 161 train loss: 0.4044, eval loss 0.6997900009155273\n",
                  "Epoch 162 train loss: 0.3860, eval loss 0.69974285364151\n",
                  "Epoch 163 train loss: 0.3864, eval loss 0.6996843218803406\n",
                  "Epoch 164 train loss: 0.3910, eval loss 0.699592113494873\n",
                  "Epoch 165 train loss: 0.3770, eval loss 0.699547529220581\n",
                  "Epoch 166 train loss: 0.3730, eval loss 0.699398398399353\n",
                  "Epoch 167 train loss: 0.3676, eval loss 0.699327826499939\n",
                  "Epoch 168 train loss: 0.3911, eval loss 0.6993195414543152\n",
                  "Epoch 169 train loss: 0.4023, eval loss 0.6992129683494568\n",
                  "Epoch 170 train loss: 0.3937, eval loss 0.6991816759109497\n",
                  "Epoch 171 train loss: 0.4052, eval loss 0.6991018056869507\n",
                  "Epoch 172 train loss: 0.3548, eval loss 0.6990475058555603\n",
                  "Epoch 173 train loss: 0.3521, eval loss 0.6989808678627014\n",
                  "Epoch 174 train loss: 0.3847, eval loss 0.6989396810531616\n",
                  "Epoch 175 train loss: 0.3948, eval loss 0.6989085078239441\n",
                  "Epoch 176 train loss: 0.3829, eval loss 0.6988371014595032\n",
                  "Epoch 177 train loss: 0.3955, eval loss 0.6987130641937256\n",
                  "Epoch 178 train loss: 0.3530, eval loss 0.6986020803451538\n",
                  "Epoch 179 train loss: 0.4110, eval loss 0.6985896825790405\n",
                  "Epoch 180 train loss: 0.3767, eval loss 0.6985812187194824\n",
                  "Epoch 181 train loss: 0.3702, eval loss 0.6985042095184326\n",
                  "Epoch 182 train loss: 0.3619, eval loss 0.6984540224075317\n",
                  "Epoch 183 train loss: 0.3677, eval loss 0.6984207034111023\n",
                  "Epoch 184 train loss: 0.3463, eval loss 0.6982942223548889\n",
                  "Epoch 185 train loss: 0.3934, eval loss 0.6982181668281555\n",
                  "Epoch 186 train loss: 0.3653, eval loss 0.6982354521751404\n",
                  "Epoch 187 train loss: 0.3637, eval loss 0.6980901956558228\n",
                  "Epoch 188 train loss: 0.3887, eval loss 0.6980588436126709\n",
                  "Epoch 189 train loss: 0.4099, eval loss 0.6979703903198242\n",
                  "Epoch 190 train loss: 0.3464, eval loss 0.6979551911354065\n",
                  "Epoch 191 train loss: 0.3791, eval loss 0.697917640209198\n",
                  "Epoch 192 train loss: 0.3570, eval loss 0.6979315280914307\n",
                  "Epoch 193 train loss: 0.3718, eval loss 0.6977968215942383\n",
                  "Epoch 194 train loss: 0.3521, eval loss 0.6977691650390625\n",
                  "Epoch 195 train loss: 0.3711, eval loss 0.6976732015609741\n",
                  "Epoch 196 train loss: 0.3805, eval loss 0.6976790428161621\n",
                  "Epoch 197 train loss: 0.3526, eval loss 0.6976060271263123\n",
                  "Epoch 198 train loss: 0.3482, eval loss 0.6975642442703247\n",
                  "Epoch 199 train loss: 0.3607, eval loss 0.6974779963493347\n",
                  "Epoch 200 train loss: 0.3648, eval loss 0.6974581480026245\n",
                  "Epoch 201 train loss: 0.3768, eval loss 0.6973910927772522\n",
                  "Epoch 202 train loss: 0.3823, eval loss 0.6972774267196655\n",
                  "Epoch 203 train loss: 0.3660, eval loss 0.6973260045051575\n",
                  "Epoch 204 train loss: 0.3737, eval loss 0.6972203850746155\n",
                  "Epoch 205 train loss: 0.3445, eval loss 0.6972203850746155\n",
                  "Epoch 206 train loss: 0.3666, eval loss 0.6971483826637268\n",
                  "Epoch 207 train loss: 0.3683, eval loss 0.6970806121826172\n",
                  "Epoch 208 train loss: 0.3853, eval loss 0.6970412731170654\n",
                  "Epoch 209 train loss: 0.3684, eval loss 0.6969454884529114\n",
                  "Epoch 210 train loss: 0.3699, eval loss 0.6969117522239685\n",
                  "Epoch 211 train loss: 0.3341, eval loss 0.6968843936920166\n",
                  "Epoch 212 train loss: 0.3608, eval loss 0.6969257593154907\n",
                  "Epoch 213 train loss: 0.3747, eval loss 0.6968404650688171\n",
                  "Epoch 214 train loss: 0.3521, eval loss 0.6967827081680298\n",
                  "Epoch 215 train loss: 0.3942, eval loss 0.6966897249221802\n",
                  "Epoch 216 train loss: 0.3416, eval loss 0.6966916918754578\n",
                  "Epoch 217 train loss: 0.3987, eval loss 0.6966676712036133\n",
                  "Epoch 218 train loss: 0.3697, eval loss 0.6966082453727722\n",
                  "Epoch 219 train loss: 0.3901, eval loss 0.6965908408164978\n",
                  "Epoch 220 train loss: 0.3487, eval loss 0.6964998841285706\n",
                  "Epoch 221 train loss: 0.3683, eval loss 0.6963884830474854\n",
                  "Epoch 222 train loss: 0.3607, eval loss 0.6964068412780762\n",
                  "Epoch 223 train loss: 0.3539, eval loss 0.6963115334510803\n",
                  "Epoch 224 train loss: 0.3522, eval loss 0.6962214708328247\n",
                  "Epoch 225 train loss: 0.3551, eval loss 0.6962255239486694\n",
                  "Epoch 226 train loss: 0.3897, eval loss 0.6961246132850647\n",
                  "Epoch 227 train loss: 0.3405, eval loss 0.6960408687591553\n",
                  "Epoch 228 train loss: 0.3957, eval loss 0.6960342526435852\n",
                  "Epoch 229 train loss: 0.3332, eval loss 0.6960396766662598\n",
                  "Epoch 230 train loss: 0.3416, eval loss 0.6960119605064392\n",
                  "Epoch 231 train loss: 0.3341, eval loss 0.6959277987480164\n",
                  "Epoch 232 train loss: 0.4166, eval loss 0.6959070563316345\n",
                  "Epoch 233 train loss: 0.3839, eval loss 0.695855438709259\n",
                  "Epoch 234 train loss: 0.3497, eval loss 0.6957822442054749\n",
                  "Epoch 235 train loss: 0.3763, eval loss 0.6957793831825256\n",
                  "Epoch 236 train loss: 0.3549, eval loss 0.6957046389579773\n",
                  "Epoch 237 train loss: 0.3787, eval loss 0.6956229209899902\n",
                  "Epoch 238 train loss: 0.3583, eval loss 0.6956729292869568\n",
                  "Epoch 239 train loss: 0.3713, eval loss 0.6956678628921509\n",
                  "Epoch 240 train loss: 0.3893, eval loss 0.6956126689910889\n",
                  "Epoch 241 train loss: 0.3734, eval loss 0.6956051588058472\n",
                  "Epoch 242 train loss: 0.3565, eval loss 0.6955891847610474\n",
                  "Epoch 243 train loss: 0.3871, eval loss 0.6955893039703369\n",
                  "Epoch 244 train loss: 0.3784, eval loss 0.695521891117096\n",
                  "Epoch 245 train loss: 0.3600, eval loss 0.6954589486122131\n",
                  "Epoch 246 train loss: 0.3692, eval loss 0.6954302191734314\n",
                  "Epoch 247 train loss: 0.3492, eval loss 0.6953660845756531\n",
                  "Epoch 248 train loss: 0.3900, eval loss 0.6953501105308533\n",
                  "Epoch 249 train loss: 0.3754, eval loss 0.6953502893447876\n",
                  "Epoch 250 train loss: 0.3505, eval loss 0.6953340768814087\n",
                  "Epoch 251 train loss: 0.3674, eval loss 0.6952628493309021\n",
                  "Epoch 252 train loss: 0.3753, eval loss 0.6952446699142456\n",
                  "Epoch 253 train loss: 0.3580, eval loss 0.6952378153800964\n",
                  "Epoch 254 train loss: 0.3660, eval loss 0.6951769590377808\n",
                  "Epoch 255 train loss: 0.3320, eval loss 0.6951392292976379\n",
                  "Epoch 256 train loss: 0.3850, eval loss 0.6951232552528381\n",
                  "Epoch 257 train loss: 0.3725, eval loss 0.6949434280395508\n",
                  "Epoch 258 train loss: 0.3578, eval loss 0.6948885917663574\n",
                  "Epoch 259 train loss: 0.3798, eval loss 0.6949014663696289\n",
                  "Epoch 260 train loss: 0.3650, eval loss 0.6948628425598145\n",
                  "Epoch 261 train loss: 0.3691, eval loss 0.6948586106300354\n",
                  "Epoch 262 train loss: 0.3554, eval loss 0.6948192715644836\n",
                  "Epoch 263 train loss: 0.3781, eval loss 0.6947777271270752\n",
                  "Epoch 264 train loss: 0.3378, eval loss 0.6947671175003052\n",
                  "Epoch 265 train loss: 0.3470, eval loss 0.6947300434112549\n",
                  "Epoch 266 train loss: 0.3423, eval loss 0.694710373878479\n",
                  "Epoch 267 train loss: 0.3861, eval loss 0.6947020292282104\n",
                  "Epoch 268 train loss: 0.3728, eval loss 0.6947126984596252\n",
                  "Epoch 269 train loss: 0.3422, eval loss 0.694693386554718\n",
                  "Epoch 270 train loss: 0.3570, eval loss 0.6946126222610474\n",
                  "Epoch 271 train loss: 0.3509, eval loss 0.6945215463638306\n",
                  "Epoch 272 train loss: 0.3652, eval loss 0.6944463849067688\n",
                  "Epoch 273 train loss: 0.3769, eval loss 0.6944798231124878\n",
                  "Epoch 274 train loss: 0.3618, eval loss 0.6944586038589478\n",
                  "Epoch 275 train loss: 0.3705, eval loss 0.6944401264190674\n",
                  "Epoch 276 train loss: 0.3596, eval loss 0.6944004893302917\n",
                  "Epoch 277 train loss: 0.3579, eval loss 0.6943152546882629\n",
                  "Epoch 278 train loss: 0.4041, eval loss 0.6942636966705322\n",
                  "Epoch 279 train loss: 0.3793, eval loss 0.6942588686943054\n",
                  "Epoch 280 train loss: 0.3718, eval loss 0.694164514541626\n",
                  "Epoch 281 train loss: 0.3581, eval loss 0.694189190864563\n",
                  "Epoch 282 train loss: 0.3382, eval loss 0.6941624879837036\n",
                  "Epoch 283 train loss: 0.3684, eval loss 0.6940928101539612\n",
                  "Epoch 284 train loss: 0.3468, eval loss 0.6941048502922058\n",
                  "Epoch 285 train loss: 0.3668, eval loss 0.6940392255783081\n",
                  "Epoch 286 train loss: 0.3751, eval loss 0.694080650806427\n",
                  "Epoch 287 train loss: 0.3480, eval loss 0.6940277218818665\n",
                  "Epoch 288 train loss: 0.3765, eval loss 0.6939932107925415\n",
                  "Epoch 289 train loss: 0.3913, eval loss 0.6940295696258545\n",
                  "Epoch 290 train loss: 0.3420, eval loss 0.6939932703971863\n",
                  "Epoch 291 train loss: 0.3614, eval loss 0.6939270496368408\n",
                  "Epoch 292 train loss: 0.3838, eval loss 0.6939151883125305\n",
                  "Epoch 293 train loss: 0.3669, eval loss 0.6938336491584778\n",
                  "Epoch 294 train loss: 0.3542, eval loss 0.6938350796699524\n",
                  "Epoch 295 train loss: 0.3909, eval loss 0.6937415599822998\n",
                  "Epoch 296 train loss: 0.3602, eval loss 0.6937738060951233\n",
                  "Epoch 297 train loss: 0.3746, eval loss 0.6937512755393982\n",
                  "Epoch 298 train loss: 0.3751, eval loss 0.6937732696533203\n",
                  "Epoch 299 train loss: 0.3705, eval loss 0.6937081813812256\n"
               ]
            }
         ],
         "source": [
            "model = RegularizedMLP(\n",
            "    input_size=X_train.shape[1], \n",
            "    dropout_p=dropout_p\n",
            ")\n",
            "optimizer = torch.optim.SGD(\n",
            "    model.parameters(), \n",
            "    lr=learning_rate, \n",
            "    weight_decay=l2_reg\n",
            ")\n",
            "loss_fn = torch.nn.BCEWithLogitsLoss()\n",
            "\n",
            "train_dataset = MyDataset(X_train, y_train)\n",
            "train_dataloader = DataLoader(train_dataset, batch_size=batch_size)\n",
            "\n",
            "steps_without_improvement = 0\n",
            "\n",
            "best_val_loss = np.inf\n",
            "best_model = None\n",
            "best_threshold = None\n",
            "\n",
            "for epoch_num in range(max_epochs):\n",
            "    model.train()\n",
            "    \n",
            "    # note that we are using DataLoader to get batches\n",
            "    for X_batch, y_batch in train_dataloader:\n",
            "        # model training\n",
            "        y_pred = model(X_batch)\n",
            "        loss = loss_fn(y_pred, y_batch)\n",
            "        loss.backward()\n",
            "\n",
            "        optimizer.step()\n",
            "        optimizer.zero_grad()\n",
            "    \n",
            "    # model evaluation, early stopping\n",
            "    valid_metrics = evaluate_model(model, X_valid, y_valid, loss_fn)\n",
            "    if best_val_loss - valid_metrics['loss'] > 1e-5:\n",
            "        best_val_loss = valid_metrics['loss']\n",
            "        best_threshold = valid_metrics['threshold']\n",
            "        best_model = deepcopy(model)\n",
            "        steps_without_improvement = 0\n",
            "    else:\n",
            "        steps_without_improvement += 1\n",
            "    \n",
            "    if steps_without_improvement > early_stopping_patience:\n",
            "        break\n",
            "    \n",
            "    print(f\"Epoch {epoch_num} train loss: {loss.item():.4f}, eval loss {valid_metrics['loss']}\")\n"
         ]
      },
      {
         "cell_type": "code",
         "execution_count": 93,
         "metadata": {},
         "outputs": [
            {
               "name": "stdout",
               "output_type": "stream",
               "text": [
                  "AUROC: 90.20%\n",
                  "F1: 68.77%\n",
                  "Precision: 62.43%\n",
                  "Recall: 76.53%\n"
               ]
            }
         ],
         "source": [
            "test_metrics = evaluate_model(best_model, X_test, y_test, loss_fn, best_threshold)\n",
            "\n",
            "print(f\"AUROC: {100 * test_metrics['AUROC']:.2f}%\")\n",
            "print(f\"F1: {100 * test_metrics['F1-score']:.2f}%\")\n",
            "print(f\"Precision: {100 * test_metrics['precision']:.2f}%\")\n",
            "print(f\"Recall: {100 * test_metrics['recall']:.2f}%\")"
         ]
      },
      {
         "cell_type": "markdown",
         "metadata": {},
         "source": [
            "Wyniki wyglądają już dużo lepiej.\n",
            "\n",
            "Na koniec laboratorium dołożymy do naszego modelu jeszcze 3 powszechnie używane techniki, które są bardzo proste, a pozwalają często ulepszyć wynik modelu.\n",
            "\n",
            "Pierwszą z nich są **warstwy normalizacji (normalization layers)**. Powstały one początkowo z założeniem, że przez przekształcenia przestrzeni dokonywane przez sieć zmienia się rozkład prawdopodobieństw pomiędzy warstwami, czyli tzw. *internal covariate shift*. Później okazało się, że zastosowanie takiej normalizacji wygładza powierzchnię funkcji kosztu, co ułatwia i przyspiesza optymalizację. Najpowszechniej używaną normalizacją jest **batch normalization (batch norm)**.\n",
            "\n",
            "Drugim ulepszeniem jest dodanie **wag klas (class weights)**. Mamy do czynienia z problemem klasyfikacji niezbalansowanej, więc klasa mniejszościowa, ważniejsza dla nas, powinna dostać większą wagę. Implementuje się to trywialnie prosto - po prostu mnożymy wartość funkcji kosztu dla danego przykładu przez wagę dla prawdziwej klasy tego przykładu. Praktycznie każdy klasyfikator operujący na jakiejś ważonej funkcji może działać w ten sposób, nie tylko sieci neuronowe.\n",
            "\n",
            "Ostatnim ulepszeniem jest zamiana SGD na optymalizator Adam, a konkretnie na optymalizator `AdamW`. Jest to przykład **optymalizatora adaptacyjnego (adaptive optimizer)**, który potrafi zaadaptować stałą uczącą dla każdego parametru z osobna w trakcie treningu. Wykorzystuje do tego gradienty - w uproszczeniu, im większa wariancja gradientu, tym mniejsze kroki w tym kierunku robimy."
         ]
      },
      {
         "cell_type": "markdown",
         "metadata": {},
         "source": [
            "#### Zadanie 8 (0.5 punktu)\n",
            "\n",
            "Zaimplementuj model `NormalizingMLP`, o takiej samej strukturze jak `RegularizedMLP`, ale dodatkowo z warstwami `BatchNorm1d` pomiędzy warstwami `Linear` oraz `ReLU`.\n",
            "\n",
            "Za pomocą funkcji `compute_class_weight()` oblicz wagi dla poszczególnych klas. Użyj opcji `\"balanced\"`. Przekaż do funkcji kosztu wagę klasy pozytywnej (pamiętaj, aby zamienić ją na tensor).\n",
            "\n",
            "Zamień używany optymalizator na `AdamW`.\n",
            "\n",
            "Na koniec skopiuj resztę kodu do treningu z poprzedniego zadania, wytrenuj sieć i oblicz wyniki na zbiorze testowym."
         ]
      },
      {
         "cell_type": "code",
         "execution_count": 94,
         "metadata": {},
         "outputs": [],
         "source": [
            "class NormalizingMLP(nn.Module):\n",
            "    def __init__(self, input_size: int, dropout_p: float = 0.5):\n",
            "        super().__init__()\n",
            "\n",
            "        self.layers = nn.Sequential(\n",
            "            nn.Linear(input_size, 256),\n",
            "            nn.BatchNorm1d(256),\n",
            "            nn.ReLU(),\n",
            "            nn.Dropout(dropout_p),\n",
            "            nn.Linear(256, 128),\n",
            "            nn.BatchNorm1d(128),\n",
            "            nn.ReLU(),\n",
            "            nn.Dropout(dropout_p),\n",
            "            nn.Linear(128, 1),\n",
            "        )\n",
            "\n",
            "    def forward(self, x):\n",
            "        return self.layers(x)\n",
            "\n",
            "    def predict_proba(self, x):\n",
            "        return sigmoid(self(x))\n",
            "\n",
            "    def predict(self, x, threshold: float = 0.5):\n",
            "        y_pred_score = self.predict_proba(x)\n",
            "        return (y_pred_score > threshold).to(torch.int32)"
         ]
      },
      {
         "cell_type": "code",
         "execution_count": 95,
         "metadata": {},
         "outputs": [],
         "source": [
            "from sklearn.utils.class_weight import compute_class_weight\n",
            "\n",
            "# define all the hyperparameters\n",
            "learning_rate = 1e-3\n",
            "dropout_p = 0.5\n",
            "l2_reg = 1e-4\n",
            "batch_size = 128\n",
            "max_epochs = 300\n",
            "\n",
            "early_stopping_patience = 4\n",
            "weights = compute_class_weight(y=y, class_weight=\"balanced\", classes=[0, 1])"
         ]
      },
      {
         "cell_type": "code",
         "execution_count": 96,
         "metadata": {
            "scrolled": true
         },
         "outputs": [
            {
               "name": "stdout",
               "output_type": "stream",
               "text": [
                  "Epoch 0 train loss: 0.6074, eval loss 0.8220747113227844\n",
                  "Epoch 1 train loss: 0.5732, eval loss 0.8186298608779907\n",
                  "Epoch 2 train loss: 0.5272, eval loss 0.8150694370269775\n",
                  "Epoch 3 train loss: 0.5553, eval loss 0.8137824535369873\n",
                  "Epoch 4 train loss: 0.5576, eval loss 0.8135366439819336\n",
                  "Epoch 5 train loss: 0.4896, eval loss 0.8130056262016296\n",
                  "Epoch 6 train loss: 0.4990, eval loss 0.8130204081535339\n",
                  "Epoch 7 train loss: 0.5163, eval loss 0.8112684488296509\n",
                  "Epoch 8 train loss: 0.5836, eval loss 0.8117764592170715\n",
                  "Epoch 9 train loss: 0.5431, eval loss 0.8108319640159607\n",
                  "Epoch 10 train loss: 0.4766, eval loss 0.8099129796028137\n",
                  "Epoch 11 train loss: 0.4857, eval loss 0.8107089400291443\n",
                  "Epoch 12 train loss: 0.5401, eval loss 0.8114281296730042\n",
                  "Epoch 13 train loss: 0.5283, eval loss 0.8096283078193665\n",
                  "Epoch 14 train loss: 0.5833, eval loss 0.8092857003211975\n",
                  "Epoch 15 train loss: 0.4855, eval loss 0.808332622051239\n",
                  "Epoch 16 train loss: 0.5396, eval loss 0.8098056316375732\n",
                  "Epoch 17 train loss: 0.4092, eval loss 0.8090184926986694\n",
                  "Epoch 18 train loss: 0.5055, eval loss 0.8083029389381409\n",
                  "Epoch 19 train loss: 0.4953, eval loss 0.8080308437347412\n",
                  "Epoch 20 train loss: 0.4623, eval loss 0.8089850544929504\n",
                  "Epoch 21 train loss: 0.5478, eval loss 0.8081420063972473\n",
                  "Epoch 22 train loss: 0.4434, eval loss 0.8072664737701416\n",
                  "Epoch 23 train loss: 0.4948, eval loss 0.8090335726737976\n",
                  "Epoch 24 train loss: 0.6125, eval loss 0.8074490427970886\n",
                  "Epoch 25 train loss: 0.4573, eval loss 0.8078851103782654\n",
                  "Epoch 26 train loss: 0.4408, eval loss 0.8087061047554016\n"
               ]
            }
         ],
         "source": [
            "# training loop\n",
            "model = NormalizingMLP(input_size=X_train.shape[1], dropout_p=dropout_p)\n",
            "optimizer = torch.optim.AdamW(\n",
            "    model.parameters(),\n",
            "    lr=lr,\n",
            "    weight_decay=l2_reg,\n",
            ")\n",
            "loss_fn = torch.nn.BCEWithLogitsLoss(pos_weight=torch.from_numpy(weights)[1])\n",
            "\n",
            "train_dataset = MyDataset(X_train, y_train)\n",
            "train_dataloader = DataLoader(train_dataset, batch_size=batch_size)\n",
            "\n",
            "steps_without_improvement = 0\n",
            "\n",
            "best_val_loss = np.inf\n",
            "best_model = None\n",
            "best_threshold = None\n",
            "\n",
            "for epoch_num in range(max_epochs):\n",
            "    model.train()\n",
            "\n",
            "    # note that we are using DataLoader to get batches\n",
            "    for X_batch, y_batch in train_dataloader:\n",
            "        # model training\n",
            "        y_pred = model(X_batch)\n",
            "        loss = loss_fn(y_pred, y_batch)\n",
            "        loss.backward()\n",
            "\n",
            "        optimizer.step()\n",
            "        optimizer.zero_grad()\n",
            "\n",
            "    # model evaluation, early stopping\n",
            "    valid_metrics = evaluate_model(model, X_valid, y_valid, loss_fn)\n",
            "    if best_val_loss - valid_metrics[\"loss\"] > 1e-5:\n",
            "        best_val_loss = valid_metrics[\"loss\"]\n",
            "        best_threshold = valid_metrics[\"threshold\"]\n",
            "        best_model = deepcopy(model)\n",
            "        steps_without_improvement = 0\n",
            "    else:\n",
            "        steps_without_improvement += 1\n",
            "\n",
            "    if steps_without_improvement > early_stopping_patience:\n",
            "        break\n",
            "\n",
            "    print(f\"Epoch {epoch_num} train loss: {loss.item():.4f}, eval loss {valid_metrics['loss']}\")"
         ]
      },
      {
         "cell_type": "code",
         "execution_count": 97,
         "metadata": {
            "scrolled": true
         },
         "outputs": [
            {
               "name": "stdout",
               "output_type": "stream",
               "text": [
                  "AUROC: 90.61%\n",
                  "F1: 69.41%\n",
                  "Precision: 62.12%\n",
                  "Recall: 78.64%\n"
               ]
            }
         ],
         "source": [
            "test_metrics = evaluate_model(best_model, X_test, y_test, loss_fn, best_threshold)\n",
            "\n",
            "print(f\"AUROC: {100 * test_metrics['AUROC']:.2f}%\")\n",
            "print(f\"F1: {100 * test_metrics['F1-score']:.2f}%\")\n",
            "print(f\"Precision: {100 * test_metrics['precision']:.2f}%\")\n",
            "print(f\"Recall: {100 * test_metrics['recall']:.2f}%\")"
         ]
      },
      {
         "cell_type": "markdown",
         "metadata": {
            "id": "XyoRnHT4GFR9"
         },
         "source": [
            "## Akceleracja sprzętowa (dla zainteresowanych)"
         ]
      },
      {
         "cell_type": "markdown",
         "metadata": {},
         "source": [
            "Jak wcześniej wspominaliśmy, użycie akceleracji sprzętowej, czyli po prostu GPU do obliczeń, jest bardzo efektywne w przypadku sieci neuronowych. Karty graficzne bardzo efektywnie mnożą macierze, a sieci neuronowe to, jak można było się przekonać, dużo mnożenia macierzy.\n",
            "\n",
            "W PyTorchu jest to dosyć łatwe, ale trzeba robić to explicite. Służy do tego metoda `.to()`, która przenosi tensory między CPU i GPU. Poniżej przykład, jak to się robi (oczywiście trzeba mieć skonfigurowane GPU, żeby działało):"
         ]
      },
      {
         "cell_type": "code",
         "execution_count": 98,
         "metadata": {},
         "outputs": [
            {
               "name": "stdout",
               "output_type": "stream",
               "text": [
                  "Epoch 0 train loss: 0.9381, time: 0.004504203796386719\n",
                  "Epoch 1 train loss: 0.4282, time: 0.5433099269866943\n",
                  "Epoch 2 train loss: 0.4760, time: 0.5379312038421631\n",
                  "Epoch 3 train loss: 0.3970, time: 0.5492699146270752\n",
                  "Epoch 4 train loss: 0.5902, time: 0.5225942134857178\n",
                  "Epoch 6 train loss: 0.3135, time: 0.5320580005645752\n",
                  "Epoch 7 train loss: 0.4123, time: 0.5058672428131104\n",
                  "Epoch 8 train loss: 0.4678, time: 0.464080810546875\n",
                  "Epoch 9 train loss: 0.4458, time: 0.4583747386932373\n",
                  "Epoch 11 train loss: 0.4740, time: 0.4457130432128906\n",
                  "Epoch 12 train loss: 0.4136, time: 0.45688343048095703\n",
                  "Epoch 13 train loss: 0.5146, time: 0.5061066150665283\n",
                  "Epoch 14 train loss: 0.3785, time: 0.505082368850708\n",
                  "Epoch 15 train loss: 0.4077, time: 0.507216215133667\n",
                  "Epoch 17 train loss: 0.3195, time: 0.5135729312896729\n",
                  "Epoch 18 train loss: 0.4418, time: 0.5046248435974121\n",
                  "Epoch 19 train loss: 0.4473, time: 0.5007333755493164\n",
                  "Epoch 20 train loss: 0.4332, time: 0.45397353172302246\n",
                  "Epoch 22 train loss: 0.4975, time: 0.45267248153686523\n",
                  "Epoch 23 train loss: 0.4571, time: 0.45239996910095215\n",
                  "Epoch 24 train loss: 0.3455, time: 0.4457845687866211\n",
                  "Epoch 25 train loss: 0.4188, time: 0.43981194496154785\n",
                  "Epoch 26 train loss: 0.4453, time: 0.4429936408996582\n",
                  "Epoch 28 train loss: 0.5639, time: 0.4430668354034424\n",
                  "Epoch 29 train loss: 0.5112, time: 0.43588924407958984\n",
                  "AUROC: 90.36%\n",
                  "F1: 69.57%\n",
                  "{'loss': tensor(0.8103), 'AUROC': 0.9036225650523101, 'threshold': 0.5, 'F1-score': 0.6956521739130436, 'precision': 0.624113475177305, 'recall': 0.7857142857142857}\n"
               ]
            }
         ],
         "source": [
            "import time \n",
            "\n",
            "\n",
            "class CudaMLP(nn.Module):\n",
            "    def __init__(self, input_size: int, dropout_p: float = 0.5):\n",
            "        super().__init__()\n",
            "\n",
            "        self.mlp = nn.Sequential(\n",
            "            nn.Linear(input_size, 512),\n",
            "            nn.BatchNorm1d(512),\n",
            "            nn.ReLU(),\n",
            "            nn.Dropout(dropout_p),\n",
            "            nn.Linear(512, 256),\n",
            "            nn.BatchNorm1d(256),\n",
            "            nn.ReLU(),\n",
            "            nn.Dropout(dropout_p),\n",
            "            nn.Linear(256, 256),\n",
            "            nn.BatchNorm1d(256),\n",
            "            nn.ReLU(),\n",
            "            nn.Dropout(dropout_p),\n",
            "            nn.Linear(256, 128),\n",
            "            nn.BatchNorm1d(128),\n",
            "            nn.ReLU(),\n",
            "            nn.Dropout(dropout_p),\n",
            "            nn.Linear(128, 1),\n",
            "        )\n",
            "    \n",
            "    def forward(self, x):\n",
            "        return self.mlp(x)\n",
            "\n",
            "    def predict_proba(self, x):\n",
            "        return sigmoid(self(x))\n",
            "    \n",
            "    def predict(self, x, threshold: float = 0.5):\n",
            "        y_pred_score = self.predict_proba(x)\n",
            "        return (y_pred_score > threshold).to(torch.int32)\n",
            "\n",
            "\n",
            "model = CudaMLP(X_train.shape[1]).to('cuda')\n",
            "\n",
            "optimizer = torch.optim.AdamW(model.parameters(), lr=learning_rate, weight_decay=1e-4)\n",
            "\n",
            "# note that we are using loss function with sigmoid built in\n",
            "loss_fn = torch.nn.BCEWithLogitsLoss(pos_weight=torch.from_numpy(weights)[1].to('cuda'))\n",
            "\n",
            "step_counter = 0\n",
            "time_from_eval = time.time()\n",
            "for epoch_id in range(30):\n",
            "    for batch_x, batch_y in train_dataloader:\n",
            "        batch_x = batch_x.to('cuda')\n",
            "        batch_y = batch_y.to('cuda')\n",
            "        \n",
            "        loss = loss_fn(model(batch_x), batch_y)\n",
            "        loss.backward()\n",
            "\n",
            "        optimizer.step()\n",
            "        optimizer.zero_grad()\n",
            "        \n",
            "        if step_counter % evaluation_steps == 0:\n",
            "            print(f\"Epoch {epoch_id} train loss: {loss.item():.4f}, time: {time.time() - time_from_eval}\")\n",
            "            time_from_eval = time.time()\n",
            "\n",
            "        step_counter += 1\n",
            "\n",
            "test_res = evaluate_model(model.to('cpu'), X_test, y_test, loss_fn.to('cpu'), threshold=0.5)\n",
            "\n",
            "print(f\"AUROC: {100 * test_res['AUROC']:.2f}%\")\n",
            "print(f\"F1: {100 * test_res['F1-score']:.2f}%\")\n",
            "print(test_res)"
         ]
      },
      {
         "cell_type": "markdown",
         "metadata": {},
         "source": [
            "Co prawda ten model nie będzie tak dobry jak ten z laboratorium, ale zwróć uwagę, o ile jest większy, a przy tym szybszy.\n",
            "\n",
            "Dla zainteresowanych polecamy [tę serie artykułów](https://medium.com/@adi.fu7/ai-accelerators-part-i-intro-822c2cdb4ca4)"
         ]
      },
      {
         "cell_type": "markdown",
         "metadata": {},
         "source": [
            "## Zadanie dla chętnych"
         ]
      },
      {
         "cell_type": "markdown",
         "metadata": {},
         "source": [
            "Jak widzieliśmy, sieci neuronowe mają bardzo dużo hiperparametrów. Przeszukiwanie ich grid search'em jest więc niewykonalne, a chociaż random search by działał, to potrzebowałby wielu iteracji, co też jest kosztowne obliczeniowo.\n",
            "\n",
            "Zaimplementuj inteligentne przeszukiwanie przestrzeni hiperparametrów za pomocą biblioteki [Optuna](https://optuna.org/). Implementuje ona między innymi algorytm Tree Parzen Estimator (TPE), należący do grupy algorytmów typu Bayesian search. Typowo osiągają one bardzo dobre wyniki, a właściwie zawsze lepsze od przeszukiwania losowego. Do tego wystarcza im często niewielka liczba kroków.\n",
            "\n",
            "Zaimplementuj 3-warstwową sieć MLP, gdzie pierwsza warstwa ma rozmiar ukryty N, a druga N // 2. Ucz ją optymalizatorem Adam przez maksymalnie 300 epok z cierpliwością 10.\n",
            "\n",
            "Przeszukaj wybrane zakresy dla hiperparametrów:\n",
            "- rozmiar warstw ukrytych (N)\n",
            "- stała ucząca\n",
            "- batch size\n",
            "- siła regularyzacji L2\n",
            "- prawdopodobieństwo dropoutu\n",
            "\n",
            "Wykorzystaj przynajmniej 30 iteracji. Następnie przełącz algorytm na losowy (Optuna także jego implementuje), wykonaj 30 iteracji i porównaj jakość wyników.\n",
            "\n",
            "Przydatne materiały:\n",
            "- [Optuna code examples - PyTorch](https://optuna.org/#code_examples)\n",
            "- [Auto-Tuning Hyperparameters with Optuna and PyTorch](https://www.youtube.com/watch?v=P6NwZVl8ttc)\n",
            "- [Hyperparameter Tuning of Neural Networks with Optuna and PyTorch](https://towardsdatascience.com/hyperparameter-tuning-of-neural-networks-with-optuna-and-pytorch-22e179efc837)\n",
            "- [Using Optuna to Optimize PyTorch Hyperparameters](https://medium.com/pytorch/using-optuna-to-optimize-pytorch-hyperparameters-990607385e36)"
         ]
      },
      {
         "cell_type": "code",
         "execution_count": 99,
         "metadata": {},
         "outputs": [],
         "source": [
            "class TunableCudaMLP(nn.Module):\n",
            "    def __init__(self, input_size, hidden_size, p_dropout) -> None:\n",
            "        super().__init__()\n",
            "\n",
            "        self.layers = nn.Sequential(\n",
            "            nn.Linear(input_size, hidden_size),\n",
            "            nn.BatchNorm1d(hidden_size),\n",
            "            nn.ReLU(),\n",
            "            nn.Dropout(dropout_p),\n",
            "            nn.Linear(hidden_size, hidden_size // 2),\n",
            "            nn.BatchNorm1d(hidden_size // 2),\n",
            "            nn.ReLU(),\n",
            "            nn.Dropout(dropout_p),\n",
            "            nn.Linear(hidden_size // 2, 1),\n",
            "        )\n",
            "\n",
            "    def forward(self, x):\n",
            "        return self.layers(x)\n",
            "\n",
            "    def predict_proba(self, x):\n",
            "        return sigmoid(self(x))\n",
            "\n",
            "    def predict(self, x, threshold: float = 0.5):\n",
            "        y_pred_score = self.predict_proba(x)\n",
            "        return (y_pred_score > threshold).to(torch.int32)"
         ]
      },
      {
         "cell_type": "code",
         "execution_count": 100,
         "metadata": {},
         "outputs": [],
         "source": [
            "X_valid, y_valid = X_valid.to(\"cuda\"), y_valid.to(\"cuda\")\n",
            "\n",
            "\n",
            "def hp_train(N, lr, batch_size, l2_reg, p):\n",
            "    max_epochs = 300\n",
            "    early_stopping_patience = 10\n",
            "    weights = compute_class_weight(y=y, class_weight=\"balanced\", classes=[0, 1])\n",
            "\n",
            "    model = TunableCudaMLP(input_size=X_train.shape[1], hidden_size=N, p_dropout=p).to(\"cuda\")\n",
            "    optimizer = torch.optim.AdamW(\n",
            "        model.parameters(),\n",
            "        lr=lr,\n",
            "        weight_decay=l2_reg,\n",
            "    )\n",
            "    loss_fn = torch.nn.BCEWithLogitsLoss(pos_weight=torch.from_numpy(weights)[1].to(\"cuda\"))\n",
            "\n",
            "    train_dataset = MyDataset(X_train, y_train)\n",
            "    train_dataloader = DataLoader(train_dataset, batch_size=batch_size)\n",
            "\n",
            "    steps_without_improvement = 0\n",
            "    best_val_loss = np.inf\n",
            "    best_model = model\n",
            "\n",
            "    for _ in range(max_epochs):\n",
            "        model.train()\n",
            "\n",
            "        # model training\n",
            "        for X_batch, y_batch in train_dataloader:\n",
            "            X_batch, y_batch = X_batch.to(\"cuda\"), y_batch.to(\"cuda\")\n",
            "\n",
            "            loss = loss_fn(model(X_batch), y_batch)\n",
            "            loss.backward()\n",
            "\n",
            "            optimizer.step()\n",
            "            optimizer.zero_grad()\n",
            "\n",
            "        # model evaluation, early stopping\n",
            "        model.eval()\n",
            "        with torch.no_grad():\n",
            "            y_pred = model(X_valid)\n",
            "        val_loss = loss_fn(y_pred, y_valid)\n",
            "\n",
            "        if best_val_loss - val_loss > 1e-5:\n",
            "            best_val_loss = val_loss\n",
            "            best_model = deepcopy(model)\n",
            "            steps_without_improvement = 0\n",
            "        else:\n",
            "            steps_without_improvement += 1\n",
            "\n",
            "        if steps_without_improvement > early_stopping_patience:\n",
            "            break\n",
            "\n",
            "    return best_val_loss, best_model"
         ]
      },
      {
         "cell_type": "code",
         "execution_count": 108,
         "metadata": {},
         "outputs": [
            {
               "name": "stderr",
               "output_type": "stream",
               "text": [
                  "[I 2023-11-12 17:31:25,960] A new study created in memory with name: no-name-7b2871f5-5201-47b8-bc08-e3d493c5168a\n"
               ]
            },
            {
               "data": {
                  "application/vnd.jupyter.widget-view+json": {
                     "model_id": "903d1ff938aa4a639fbc3e46aa1f726e",
                     "version_major": 2,
                     "version_minor": 0
                  },
                  "text/plain": [
                     "  0%|          | 0/30 [00:00<?, ?it/s]"
                  ]
               },
               "metadata": {},
               "output_type": "display_data"
            },
            {
               "name": "stdout",
               "output_type": "stream",
               "text": [
                  "[I 2023-11-12 17:31:29,147] Trial 0 finished with value: 0.4705616533756256 and parameters: {'N': 126, 'lr': 0.003655740516684572, 'batch_size': 278, 'l2_reg': 0.0003914123996353766, 'p': 0.6184333852468094}. Best is trial 0 with value: 0.4705616533756256.\n",
                  "[I 2023-11-12 17:31:31,463] Trial 1 finished with value: 0.47636550664901733 and parameters: {'N': 95, 'lr': 0.00715652977070468, 'batch_size': 333, 'l2_reg': 0.0008519081730014286, 'p': 0.33555606216818207}. Best is trial 0 with value: 0.4705616533756256.\n",
                  "[I 2023-11-12 17:31:34,193] Trial 2 finished with value: 0.4722101390361786 and parameters: {'N': 114, 'lr': 0.008359666215606815, 'batch_size': 326, 'l2_reg': 0.0060946798956304496, 'p': 0.44232250236367254}. Best is trial 0 with value: 0.4705616533756256.\n",
                  "[I 2023-11-12 17:31:38,326] Trial 3 finished with value: 0.4753718078136444 and parameters: {'N': 192, 'lr': 0.009362674865695166, 'batch_size': 146, 'l2_reg': 0.006754252395384005, 'p': 0.3758761112950887}. Best is trial 0 with value: 0.4705616533756256.\n",
                  "[I 2023-11-12 17:31:45,825] Trial 4 finished with value: 0.470874547958374 and parameters: {'N': 96, 'lr': 0.0001683909580273382, 'batch_size': 384, 'l2_reg': 0.007231859384202002, 'p': 0.2556153379261537}. Best is trial 0 with value: 0.4705616533756256.\n",
                  "[I 2023-11-12 17:31:49,184] Trial 5 finished with value: 0.4712068438529968 and parameters: {'N': 250, 'lr': 0.007358486892420754, 'batch_size': 188, 'l2_reg': 0.0006096899689041199, 'p': 0.5844439757625756}. Best is trial 0 with value: 0.4705616533756256.\n",
                  "[I 2023-11-12 17:31:52,106] Trial 6 finished with value: 0.47687065601348877 and parameters: {'N': 124, 'lr': 0.007905515155496486, 'batch_size': 251, 'l2_reg': 0.0015149702803811016, 'p': 0.5622514578283612}. Best is trial 0 with value: 0.4705616533756256.\n",
                  "[I 2023-11-12 17:31:55,021] Trial 7 finished with value: 0.46847081184387207 and parameters: {'N': 220, 'lr': 0.0008892887188162122, 'batch_size': 353, 'l2_reg': 0.0051374113351203565, 'p': 0.2892716070809515}. Best is trial 7 with value: 0.46847081184387207.\n",
                  "[I 2023-11-12 17:31:57,616] Trial 8 finished with value: 0.4719392955303192 and parameters: {'N': 92, 'lr': 0.005756424673780197, 'batch_size': 451, 'l2_reg': 0.008670441643170029, 'p': 0.5194328597446531}. Best is trial 7 with value: 0.46847081184387207.\n",
                  "[I 2023-11-12 17:32:01,255] Trial 9 finished with value: 0.47253990173339844 and parameters: {'N': 68, 'lr': 0.00988949803866236, 'batch_size': 279, 'l2_reg': 0.008813909793734956, 'p': 0.5525076769580008}. Best is trial 7 with value: 0.46847081184387207.\n",
                  "[I 2023-11-12 17:32:14,686] Trial 10 finished with value: 0.46638137102127075 and parameters: {'N': 206, 'lr': 5.69818788951987e-05, 'batch_size': 503, 'l2_reg': 0.003847777965067316, 'p': 0.7828332870510093}. Best is trial 10 with value: 0.46638137102127075.\n",
                  "[I 2023-11-12 17:32:20,352] Trial 11 finished with value: 0.4679989814758301 and parameters: {'N': 208, 'lr': 0.00021713967340349625, 'batch_size': 493, 'l2_reg': 0.003925240632225068, 'p': 0.7730887171779864}. Best is trial 10 with value: 0.46638137102127075.\n",
                  "[I 2023-11-12 17:32:22,906] Trial 12 finished with value: 0.47049853205680847 and parameters: {'N': 177, 'lr': 0.001818842218783076, 'batch_size': 509, 'l2_reg': 0.0032575065205387743, 'p': 0.7920958151933389}. Best is trial 10 with value: 0.46638137102127075.\n",
                  "[I 2023-11-12 17:32:25,555] Trial 13 finished with value: 0.4727071523666382 and parameters: {'N': 221, 'lr': 0.0022990946775687344, 'batch_size': 511, 'l2_reg': 0.003649005711160835, 'p': 0.7960816148560776}. Best is trial 10 with value: 0.46638137102127075.\n",
                  "[I 2023-11-12 17:33:05,184] Trial 14 finished with value: 0.46740952134132385 and parameters: {'N': 154, 'lr': 2.3843709997743495e-05, 'batch_size': 438, 'l2_reg': 0.003459444819496267, 'p': 0.6953808288744389}. Best is trial 10 with value: 0.46638137102127075.\n",
                  "[I 2023-11-12 17:33:07,969] Trial 15 finished with value: 0.4716827869415283 and parameters: {'N': 149, 'lr': 0.0030521154805302625, 'batch_size': 410, 'l2_reg': 0.002361277768631959, 'p': 0.6934113918029626}. Best is trial 10 with value: 0.46638137102127075.\n",
                  "[I 2023-11-12 17:33:10,792] Trial 16 finished with value: 0.46824508905410767 and parameters: {'N': 158, 'lr': 0.0016223869600712195, 'batch_size': 421, 'l2_reg': 0.004826846063238734, 'p': 0.6967561985336197}. Best is trial 10 with value: 0.46638137102127075.\n",
                  "[I 2023-11-12 17:33:12,764] Trial 17 finished with value: 0.47148770093917847 and parameters: {'N': 256, 'lr': 0.003949076354608808, 'batch_size': 455, 'l2_reg': 0.002381037845564022, 'p': 0.6660871795373505}. Best is trial 10 with value: 0.46638137102127075.\n",
                  "[I 2023-11-12 17:33:37,347] Trial 18 finished with value: 0.4672214388847351 and parameters: {'N': 179, 'lr': 3.234916103088891e-05, 'batch_size': 460, 'l2_reg': 0.0045347318860957525, 'p': 0.72202363747108}. Best is trial 10 with value: 0.46638137102127075.\n",
                  "[I 2023-11-12 17:33:40,026] Trial 19 finished with value: 0.46980196237564087 and parameters: {'N': 182, 'lr': 0.0011179116805172867, 'batch_size': 475, 'l2_reg': 0.004780780428945674, 'p': 0.7523913552452457}. Best is trial 10 with value: 0.46638137102127075.\n",
                  "[I 2023-11-12 17:33:42,099] Trial 20 finished with value: 0.46989870071411133 and parameters: {'N': 234, 'lr': 0.0024082514130828584, 'batch_size': 378, 'l2_reg': 0.005773186159555423, 'p': 0.6332026565172975}. Best is trial 10 with value: 0.46638137102127075.\n",
                  "[I 2023-11-12 17:33:47,014] Trial 21 finished with value: 0.4666579067707062 and parameters: {'N': 145, 'lr': 0.0004001424573416715, 'batch_size': 437, 'l2_reg': 0.004032482785236044, 'p': 0.7297636310629642}. Best is trial 10 with value: 0.46638137102127075.\n",
                  "[I 2023-11-12 17:33:50,379] Trial 22 finished with value: 0.47020500898361206 and parameters: {'N': 197, 'lr': 0.0009894219483180936, 'batch_size': 468, 'l2_reg': 0.00429853827955193, 'p': 0.731851456447753}. Best is trial 10 with value: 0.46638137102127075.\n",
                  "[I 2023-11-12 17:33:53,537] Trial 23 finished with value: 0.4705906808376312 and parameters: {'N': 171, 'lr': 0.0014791630852450258, 'batch_size': 402, 'l2_reg': 0.0026958775634080986, 'p': 0.7458553619804171}. Best is trial 10 with value: 0.46638137102127075.\n",
                  "[I 2023-11-12 17:33:56,295] Trial 24 finished with value: 0.46922892332077026 and parameters: {'N': 139, 'lr': 0.0009091051651430796, 'batch_size': 483, 'l2_reg': 0.004205495334666281, 'p': 0.640157889824293}. Best is trial 10 with value: 0.46638137102127075.\n",
                  "[I 2023-11-12 17:34:02,448] Trial 25 finished with value: 0.4686327576637268 and parameters: {'N': 167, 'lr': 0.00019598831299207748, 'batch_size': 442, 'l2_reg': 0.005432724256879415, 'p': 0.7442229143944812}. Best is trial 10 with value: 0.46638137102127075.\n",
                  "[I 2023-11-12 17:34:05,770] Trial 26 finished with value: 0.46889039874076843 and parameters: {'N': 192, 'lr': 0.002481289203799157, 'batch_size': 362, 'l2_reg': 0.00442616398182893, 'p': 0.7212471176512325}. Best is trial 10 with value: 0.46638137102127075.\n",
                  "[I 2023-11-12 17:34:08,602] Trial 27 finished with value: 0.47091418504714966 and parameters: {'N': 143, 'lr': 0.0019015117459592148, 'batch_size': 417, 'l2_reg': 0.003056811652105997, 'p': 0.7971332736547331}. Best is trial 10 with value: 0.46638137102127075.\n",
                  "[I 2023-11-12 17:34:11,706] Trial 28 finished with value: 0.46718037128448486 and parameters: {'N': 211, 'lr': 0.0006981536071769015, 'batch_size': 483, 'l2_reg': 0.0018848381265995553, 'p': 0.6614880201036483}. Best is trial 10 with value: 0.46638137102127075.\n",
                  "[I 2023-11-12 17:34:14,688] Trial 29 finished with value: 0.4705166816711426 and parameters: {'N': 236, 'lr': 0.003501219606634782, 'batch_size': 287, 'l2_reg': 0.001817074679832575, 'p': 0.6656526645929651}. Best is trial 10 with value: 0.46638137102127075.\n"
               ]
            },
            {
               "data": {
                  "text/plain": [
                     "{'N': 206,\n",
                     " 'lr': 5.69818788951987e-05,\n",
                     " 'batch_size': 503,\n",
                     " 'l2_reg': 0.003847777965067316,\n",
                     " 'p': 0.7828332870510093}"
                  ]
               },
               "execution_count": 108,
               "metadata": {},
               "output_type": "execute_result"
            }
         ],
         "source": [
            "import optuna\n",
            "\n",
            "\n",
            "def objective(trial):\n",
            "    N = trial.suggest_int(\"N\", 64, 256)\n",
            "    lr = trial.suggest_float(\"lr\", 1e-5, 1e-2)\n",
            "    batch_size = trial.suggest_int(\"batch_size\", 128, 512)\n",
            "    l2_reg = trial.suggest_float(\"l2_reg\", 1e-5, 1e-2)\n",
            "    p = trial.suggest_float(\"p\", 0.2, 0.8)\n",
            "\n",
            "    return hp_train(N, lr, batch_size, l2_reg, p)[0]\n",
            "\n",
            "study = optuna.create_study()\n",
            "study.optimize(objective, n_trials=30, show_progress_bar=True)\n",
            "study.best_params"
         ]
      },
      {
         "cell_type": "code",
         "execution_count": 109,
         "metadata": {},
         "outputs": [
            {
               "data": {
                  "text/plain": [
                     "{'loss': tensor(0.8182),\n",
                     " 'AUROC': 0.9091052598997134,\n",
                     " 'threshold': 0.5612019,\n",
                     " 'F1-score': 0.7021650087770626,\n",
                     " 'precision': 0.6486486486486487,\n",
                     " 'recall': 0.7653061224489796}"
                  ]
               },
               "execution_count": 109,
               "metadata": {},
               "output_type": "execute_result"
            }
         ],
         "source": [
            "_, best_model = hp_train(**study.best_params)\n",
            "evaluate_model(\n",
            "    best_model.to(\"cpu\"),\n",
            "    X_test,\n",
            "    y_test,\n",
            "    torch.nn.BCEWithLogitsLoss(pos_weight=torch.from_numpy(weights)[1]),\n",
            ")"
         ]
      },
      {
         "cell_type": "markdown",
         "metadata": {},
         "source": [
            "Wyniki są trochę lepsze niż w przypadku sieci `NormalizingMLP` z domyślnymi hiper-parametrami."
         ]
      },
      {
         "cell_type": "code",
         "execution_count": 106,
         "metadata": {},
         "outputs": [
            {
               "name": "stderr",
               "output_type": "stream",
               "text": [
                  "[I 2023-11-12 17:29:01,924] A new study created in memory with name: no-name-ec2baeaa-6f6a-4a4b-b283-79d3cab59f88\n"
               ]
            },
            {
               "data": {
                  "application/vnd.jupyter.widget-view+json": {
                     "model_id": "deb16acbb9df4a8da5f9d7b44af45e03",
                     "version_major": 2,
                     "version_minor": 0
                  },
                  "text/plain": [
                     "  0%|          | 0/30 [00:00<?, ?it/s]"
                  ]
               },
               "metadata": {},
               "output_type": "display_data"
            },
            {
               "name": "stdout",
               "output_type": "stream",
               "text": [
                  "[I 2023-11-12 17:29:06,089] Trial 0 finished with value: 0.4715229868888855 and parameters: {'N': 130, 'lr': 0.001354667660731652, 'batch_size': 286, 'l2_reg': 0.000966499827309975, 'p': 0.7081272092085926}. Best is trial 0 with value: 0.4715229868888855.\n",
                  "[I 2023-11-12 17:29:09,043] Trial 1 finished with value: 0.47223639488220215 and parameters: {'N': 224, 'lr': 0.003479899378102951, 'batch_size': 237, 'l2_reg': 0.006277622481146625, 'p': 0.3678778962444472}. Best is trial 0 with value: 0.4715229868888855.\n",
                  "[I 2023-11-12 17:29:18,448] Trial 2 finished with value: 0.47079169750213623 and parameters: {'N': 65, 'lr': 0.00020201333190329537, 'batch_size': 501, 'l2_reg': 0.005715891847170829, 'p': 0.7623730468046948}. Best is trial 2 with value: 0.47079169750213623.\n",
                  "[I 2023-11-12 17:29:21,633] Trial 3 finished with value: 0.47177013754844666 and parameters: {'N': 161, 'lr': 0.008375524549103956, 'batch_size': 281, 'l2_reg': 0.003772173638235205, 'p': 0.7966359217979648}. Best is trial 2 with value: 0.47079169750213623.\n",
                  "[I 2023-11-12 17:29:25,340] Trial 4 finished with value: 0.4720959961414337 and parameters: {'N': 203, 'lr': 0.009305638856150421, 'batch_size': 186, 'l2_reg': 0.005620579151909089, 'p': 0.6676309383082868}. Best is trial 2 with value: 0.47079169750213623.\n",
                  "[I 2023-11-12 17:29:28,264] Trial 5 finished with value: 0.4706898331642151 and parameters: {'N': 88, 'lr': 0.006563103331932035, 'batch_size': 396, 'l2_reg': 0.006493038577554636, 'p': 0.5473955969952113}. Best is trial 5 with value: 0.4706898331642151.\n",
                  "[I 2023-11-12 17:29:30,189] Trial 6 finished with value: 0.4739677906036377 and parameters: {'N': 191, 'lr': 0.00930778360041647, 'batch_size': 429, 'l2_reg': 0.0003588003947326985, 'p': 0.40261819621768313}. Best is trial 5 with value: 0.4706898331642151.\n",
                  "[I 2023-11-12 17:29:32,614] Trial 7 finished with value: 0.4724670350551605 and parameters: {'N': 110, 'lr': 0.005844367431924239, 'batch_size': 419, 'l2_reg': 0.003212859765888402, 'p': 0.796215032033355}. Best is trial 5 with value: 0.4706898331642151.\n",
                  "[I 2023-11-12 17:29:35,716] Trial 8 finished with value: 0.472922146320343 and parameters: {'N': 208, 'lr': 0.007341207910635268, 'batch_size': 170, 'l2_reg': 0.005043861088882363, 'p': 0.4161829113084708}. Best is trial 5 with value: 0.4706898331642151.\n",
                  "[I 2023-11-12 17:29:38,880] Trial 9 finished with value: 0.4724797010421753 and parameters: {'N': 234, 'lr': 0.0034709421400585584, 'batch_size': 159, 'l2_reg': 0.004372507863201261, 'p': 0.6819004142535403}. Best is trial 5 with value: 0.4706898331642151.\n",
                  "[I 2023-11-12 17:29:41,219] Trial 10 finished with value: 0.474020391702652 and parameters: {'N': 236, 'lr': 0.006810277325809061, 'batch_size': 415, 'l2_reg': 0.002156208978566205, 'p': 0.5730413722794158}. Best is trial 5 with value: 0.4706898331642151.\n",
                  "[I 2023-11-12 17:29:43,964] Trial 11 finished with value: 0.4692847728729248 and parameters: {'N': 191, 'lr': 0.0012614922929058607, 'batch_size': 509, 'l2_reg': 0.0020888518804486004, 'p': 0.45837869367195005}. Best is trial 11 with value: 0.4692847728729248.\n",
                  "[I 2023-11-12 17:29:47,093] Trial 12 finished with value: 0.47214412689208984 and parameters: {'N': 77, 'lr': 0.00589503872833006, 'batch_size': 462, 'l2_reg': 0.008602182671293559, 'p': 0.6032917535521856}. Best is trial 11 with value: 0.4692847728729248.\n",
                  "[I 2023-11-12 17:29:50,124] Trial 13 finished with value: 0.473368763923645 and parameters: {'N': 102, 'lr': 0.008428625227685418, 'batch_size': 188, 'l2_reg': 0.0016998990561007687, 'p': 0.7441792270906924}. Best is trial 11 with value: 0.4692847728729248.\n",
                  "[I 2023-11-12 17:29:52,937] Trial 14 finished with value: 0.47326385974884033 and parameters: {'N': 88, 'lr': 0.007323418392969114, 'batch_size': 232, 'l2_reg': 0.002759333607023042, 'p': 0.6483201030754685}. Best is trial 11 with value: 0.4692847728729248.\n",
                  "[I 2023-11-12 17:29:55,556] Trial 15 finished with value: 0.4705857038497925 and parameters: {'N': 184, 'lr': 0.0010394718178056977, 'batch_size': 406, 'l2_reg': 0.0014537663131046815, 'p': 0.514187831467541}. Best is trial 11 with value: 0.4692847728729248.\n",
                  "[I 2023-11-12 17:29:58,871] Trial 16 finished with value: 0.47509557008743286 and parameters: {'N': 76, 'lr': 0.008692715931112552, 'batch_size': 176, 'l2_reg': 0.005097128085729296, 'p': 0.6802995577025231}. Best is trial 11 with value: 0.4692847728729248.\n",
                  "[I 2023-11-12 17:30:03,846] Trial 17 finished with value: 0.4743918478488922 and parameters: {'N': 78, 'lr': 0.004904546466731589, 'batch_size': 188, 'l2_reg': 0.003990893744080836, 'p': 0.6426439149893093}. Best is trial 11 with value: 0.4692847728729248.\n",
                  "[I 2023-11-12 17:30:06,934] Trial 18 finished with value: 0.4721929132938385 and parameters: {'N': 189, 'lr': 0.005634607453149217, 'batch_size': 361, 'l2_reg': 0.0052765340604058065, 'p': 0.7297768992984217}. Best is trial 11 with value: 0.4692847728729248.\n",
                  "[I 2023-11-12 17:30:09,692] Trial 19 finished with value: 0.47198110818862915 and parameters: {'N': 143, 'lr': 0.008318645867413883, 'batch_size': 292, 'l2_reg': 0.0049655467822482076, 'p': 0.45925576428990666}. Best is trial 11 with value: 0.4692847728729248.\n",
                  "[I 2023-11-12 17:30:12,665] Trial 20 finished with value: 0.47431570291519165 and parameters: {'N': 87, 'lr': 0.00974621010835726, 'batch_size': 243, 'l2_reg': 0.004929283740118189, 'p': 0.40685096951008404}. Best is trial 11 with value: 0.4692847728729248.\n",
                  "[I 2023-11-12 17:30:15,752] Trial 21 finished with value: 0.47352245450019836 and parameters: {'N': 138, 'lr': 0.0042391845825527005, 'batch_size': 341, 'l2_reg': 0.007677151006896113, 'p': 0.5492402793104614}. Best is trial 11 with value: 0.4692847728729248.\n",
                  "[I 2023-11-12 17:30:18,673] Trial 22 finished with value: 0.47171297669410706 and parameters: {'N': 77, 'lr': 0.004164168986970212, 'batch_size': 363, 'l2_reg': 0.007162127976701471, 'p': 0.591961480948796}. Best is trial 11 with value: 0.4692847728729248.\n",
                  "[I 2023-11-12 17:30:20,502] Trial 23 finished with value: 0.47362110018730164 and parameters: {'N': 186, 'lr': 0.006916128918940445, 'batch_size': 503, 'l2_reg': 0.00952591252872202, 'p': 0.7828730717915642}. Best is trial 11 with value: 0.4692847728729248.\n",
                  "[I 2023-11-12 17:30:25,030] Trial 24 finished with value: 0.47272196412086487 and parameters: {'N': 182, 'lr': 0.001235814895994161, 'batch_size': 152, 'l2_reg': 0.0004327955872652536, 'p': 0.44722483076416575}. Best is trial 11 with value: 0.4692847728729248.\n",
                  "[I 2023-11-12 17:30:28,189] Trial 25 finished with value: 0.47045600414276123 and parameters: {'N': 153, 'lr': 0.002554627309442659, 'batch_size': 257, 'l2_reg': 0.0004024894057449922, 'p': 0.5806873446590212}. Best is trial 11 with value: 0.4692847728729248.\n",
                  "[I 2023-11-12 17:30:31,256] Trial 26 finished with value: 0.470549613237381 and parameters: {'N': 83, 'lr': 0.001893836734574543, 'batch_size': 297, 'l2_reg': 0.00470723575985963, 'p': 0.7641492395205596}. Best is trial 11 with value: 0.4692847728729248.\n",
                  "[I 2023-11-12 17:30:34,216] Trial 27 finished with value: 0.4711696207523346 and parameters: {'N': 227, 'lr': 0.0014189278115612992, 'batch_size': 307, 'l2_reg': 0.00041349154503453453, 'p': 0.42814275177721794}. Best is trial 11 with value: 0.4692847728729248.\n",
                  "[I 2023-11-12 17:30:36,691] Trial 28 finished with value: 0.46853023767471313 and parameters: {'N': 172, 'lr': 0.0014346741809354968, 'batch_size': 436, 'l2_reg': 0.0054433790909004486, 'p': 0.6893691448286995}. Best is trial 28 with value: 0.46853023767471313.\n",
                  "[I 2023-11-12 17:30:39,904] Trial 29 finished with value: 0.4738084375858307 and parameters: {'N': 90, 'lr': 0.0023051035909744466, 'batch_size': 295, 'l2_reg': 0.001157372352853837, 'p': 0.46529883815463036}. Best is trial 28 with value: 0.46853023767471313.\n"
               ]
            },
            {
               "data": {
                  "text/plain": [
                     "{'N': 172,\n",
                     " 'lr': 0.0014346741809354968,\n",
                     " 'batch_size': 436,\n",
                     " 'l2_reg': 0.0054433790909004486,\n",
                     " 'p': 0.6893691448286995}"
                  ]
               },
               "execution_count": 106,
               "metadata": {},
               "output_type": "execute_result"
            }
         ],
         "source": [
            "study = optuna.create_study(sampler=optuna.samplers.RandomSampler())\n",
            "study.optimize(objective, n_trials=30, show_progress_bar=True)\n",
            "study.best_params"
         ]
      },
      {
         "cell_type": "code",
         "execution_count": 107,
         "metadata": {},
         "outputs": [
            {
               "data": {
                  "text/plain": [
                     "{'loss': tensor(0.8200),\n",
                     " 'AUROC': 0.9070053754565527,\n",
                     " 'threshold': 0.6045372,\n",
                     " 'F1-score': 0.6980345443716498,\n",
                     " 'precision': 0.6547486033519553,\n",
                     " 'recall': 0.7474489795918368}"
                  ]
               },
               "execution_count": 107,
               "metadata": {},
               "output_type": "execute_result"
            }
         ],
         "source": [
            "_, best_model = hp_train(**study.best_params)\n",
            "evaluate_model(\n",
            "    best_model.to(\"cpu\"),\n",
            "    X_test,\n",
            "    y_test,\n",
            "    torch.nn.BCEWithLogitsLoss(pos_weight=torch.from_numpy(weights)[1]),\n",
            ")"
         ]
      },
      {
         "cell_type": "markdown",
         "metadata": {},
         "source": [
            "Wynik jest gorszy od optymalizacji opartej o inteligentne metody oraz niewiele lepszy od sieci `NormalizingMLP` z domyślnymi hiper-parametrami."
         ]
      }
   ],
   "metadata": {
      "colab": {
         "collapsed_sections": [],
         "provenance": []
      },
      "kernelspec": {
         "display_name": "Python 3 (ipykernel)",
         "language": "python",
         "name": "python3"
      },
      "language_info": {
         "codemirror_mode": {
            "name": "ipython",
            "version": 3
         },
         "file_extension": ".py",
         "mimetype": "text/x-python",
         "name": "python",
         "nbconvert_exporter": "python",
         "pygments_lexer": "ipython3",
         "version": "3.11.4"
      },
      "vscode": {
         "interpreter": {
            "hash": "a5d7af91182035c53be6efb3f9b18ffc3e259c9c524705249407647c970de949"
         }
      }
   },
   "nbformat": 4,
   "nbformat_minor": 1
}
